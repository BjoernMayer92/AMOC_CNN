{
 "cells": [
  {
   "attachments": {},
   "cell_type": "markdown",
   "metadata": {},
   "source": [
    "# 1 Import Packages"
   ]
  },
  {
   "cell_type": "code",
   "execution_count": 73,
   "metadata": {},
   "outputs": [],
   "source": [
    "import xarray as xr\n",
    "import sys, os\n",
    "from pathlib import Path\n",
    "import glob\n",
    "from cdo import Cdo\n",
    "import matplotlib.pyplot as plt\n",
    "import numpy as np\n",
    "import logging\n",
    "\n",
    "from prefect import Flow, task, flow\n"
   ]
  },
  {
   "cell_type": "code",
   "execution_count": 67,
   "metadata": {},
   "outputs": [],
   "source": [
    "cdo = Cdo()"
   ]
  },
  {
   "attachments": {},
   "cell_type": "markdown",
   "metadata": {},
   "source": [
    "# 2 Metadata"
   ]
  },
  {
   "cell_type": "code",
   "execution_count": 68,
   "metadata": {},
   "outputs": [],
   "source": [
    "sys.path.append(os.path.abspath(Path().resolve().parents[1]))\n",
    "sys.path.append(os.path.abspath(Path().resolve().parents[0]))\n",
    "\n",
    "import config\n",
    "import utils as utils"
   ]
  },
  {
   "cell_type": "code",
   "execution_count": 71,
   "metadata": {},
   "outputs": [],
   "source": [
    "experiment_family = \"GrandEnsemble\"\n",
    "experiment = \"hist\"\n",
    "realization = \"lkm0001\"\n",
    "\n",
    "filename_dict = {}\n",
    "\n",
    "filename_dict[\"experiment_family\"] = experiment_family\n",
    "filename_dict[\"experiment\"] = experiment\n",
    "filename_dict[\"realization\"] = realization"
   ]
  },
  {
   "attachments": {},
   "cell_type": "markdown",
   "metadata": {},
   "source": [
    "# 3 Develop Preprocessing Functions"
   ]
  },
  {
   "cell_type": "code",
   "execution_count": 74,
   "metadata": {},
   "outputs": [
    {
     "name": "stderr",
     "output_type": "stream",
     "text": [
      "/work/uo1075/u301101/programming/miniconda3/envs/CNN/lib/python3.8/site-packages/prefect/tasks.py:261: UserWarning: A task named 'gen_filename_list' and defined at '/tmp/ipykernel_696349/1352485856.py:1' conflicts with another task. Consider specifying a unique `name` parameter in the task definition:\n",
      "\n",
      " `@task(name='my_unique_name', ...)`\n",
      "  warnings.warn(\n"
     ]
    }
   ],
   "source": [
    "@task\n",
    "def gen_filename_list(filename_dict):\n",
    "    if filename_dict[\"experiment_family\"]==\"GrandEnsemble\":\n",
    "        path = os.path.join(config.data_raw_path, filename_dict[\"experiment_family\"], filename_dict[\"experiment\"], filename_dict[\"realization\"])\n",
    "        filename_template = \"_\".join([filename_dict[\"realization\"],filename_dict[\"experiment\"],\"mpiom\", \"data\", \"3d\", \"mm\"])+\"*.nc\"\n",
    "        \n",
    "        filename_list = glob.glob(os.path.join(path, filename_template))\n",
    "        \n",
    "        return filename_list"
   ]
  },
  {
   "cell_type": "markdown",
   "metadata": {},
   "source": [
    "filename_list = gen_filename_list(filename_dict)"
   ]
  },
  {
   "cell_type": "code",
   "execution_count": 75,
   "metadata": {},
   "outputs": [],
   "source": [
    "@task\n",
    "def cal_merge_time(file_list:list, inp_file_dict:dict): \n",
    "    out_file, out_file_dict = utils.add_processing_step(inp_file_dict = inp_file_dict, processing_str =\"mergetime\", init_path = config.data_pro_path, init_filestem = \"\", filetype =\"nc\")\n",
    "\n",
    "    cdo.mergetime(input = \" \".join(file_list), output= out_file)\n",
    "    return out_file, out_file_dict"
   ]
  },
  {
   "cell_type": "markdown",
   "metadata": {},
   "source": [
    "merge_file, merge_dict = cal_merge_time(filename_list[:2], filename_dict)"
   ]
  },
  {
   "cell_type": "code",
   "execution_count": null,
   "metadata": {},
   "outputs": [],
   "source": [
    "@task\n",
    "def cal_density(inp_file, inp_file_dict):\n",
    "\n",
    "    out_file, out_file_dict = utils.add_processing_step(inp_file_dict, processing_str = \"rho\", init_path=config.data_pro_path, init_filestem=\"\",filetype=\"nc\")\n",
    "    \n",
    "    cdo.setname(\"rho\", input= \"-rhopot -adisit {}\".format(inp_file), output= out_file)\n",
    "\n",
    "    return out_file, out_file_dict"
   ]
  },
  {
   "cell_type": "markdown",
   "metadata": {},
   "source": [
    "merge_rho_file, merge_rho_dict = cal_density(merge_file, merge_dict)"
   ]
  },
  {
   "cell_type": "code",
   "execution_count": null,
   "metadata": {},
   "outputs": [],
   "source": [
    "@task\n",
    "def cal_remap(inp_file, inp_file_dict):\n",
    "    out_file, out_file_dict = utils.add_processing_step(inp_file_dict, processing_str=\"remap\", init_path= config.data_pro_path, init_filestem=\"\", filetype=\"nc\")\n",
    "\n",
    "    cdo.remapbil(\"r360x180\", input=inp_file, output=out_file)\n",
    "\n",
    "    return out_file, out_file_dict\n"
   ]
  },
  {
   "cell_type": "markdown",
   "metadata": {},
   "source": [
    "merge_rho_remap_file, merge_rho_remap_file_dict = cal_remap(merge_rho_file, merge_rho_dict)"
   ]
  },
  {
   "cell_type": "code",
   "execution_count": null,
   "metadata": {},
   "outputs": [],
   "source": [
    "@task\n",
    "def cal_mask_and_crop(inp_file, inp_file_dict, mask_file, lon_min, lon_max, lat_min, lat_max):\n",
    "    out_file, out_file_dict = utils.add_processing_step(inp_file_dict, processing_str=\"masked\", init_path = config.data_pro_path, init_filestem=\"\", filetype=\"nc\")\n",
    "    data_lonlatbox_file = cdo.sellonlatbox(\"{},{},{},{}\".format(lon_min, lon_max, lat_min, lat_max),input = inp_file)\n",
    "    mask_lonlatbox_file = cdo.sellonlatbox(\"{},{},{},{}\".format(lon_min, lon_max, lat_min, lat_max),input = mask_file)\n",
    "    cdo.mul(input = \" \".join([data_lonlatbox_file,mask_lonlatbox_file]), output=out_file)\n",
    "\n",
    "    return out_file, out_file_dict\n"
   ]
  },
  {
   "cell_type": "markdown",
   "metadata": {},
   "source": [
    "merge_rho_remap_masked_file, merge_rho_remap_masked_file_dict = cal_mask_and_crop(merge_rho_remap_file, merge_rho_remap_file_dict, mask_file = mask_file, lon_min = lon_min, lon_max= lon_max, lat_min=lat_min, lat_max=lat_max)\n"
   ]
  },
  {
   "cell_type": "code",
   "execution_count": null,
   "metadata": {},
   "outputs": [],
   "source": [
    "@task\n",
    "def cal_yearly_means(inp_file, inp_file_dict):\n",
    "    \n",
    "    out_file, out_file_dict = utils.add_processing_step(inp_file_dict, processing_str = \"ym\", init_path=config.data_pro_path, init_filestem=\"\",filetype=\"nc\")\n",
    "\n",
    "    cdo.yearmonmean(input= inp_file, output= out_file)\n",
    "\n",
    "    return out_file, out_file_dict"
   ]
  },
  {
   "cell_type": "markdown",
   "metadata": {},
   "source": [
    "merge_rho_remap_masked_ym_file, merge_rho_remap_masked_ym_file_dict = cal_yearly_means(merge_rho_remap_masked_file, merge_rho_remap_masked_file_dict)\n"
   ]
  },
  {
   "cell_type": "code",
   "execution_count": 83,
   "metadata": {},
   "outputs": [],
   "source": [
    "help(\"modules\")"
   ]
  },
  {
   "cell_type": "code",
   "execution_count": null,
   "metadata": {},
   "outputs": [],
   "source": [
    "@flow\n",
    "def test_pipeline():\n",
    "    mask_filename = \"_\".join([\"mask\", \"atlantic\", \"r360x180\"])+\".nc\"\n",
    "    mask_file = os.path.join(config.data_pro_path, \"basin\", \"r360x180\",mask_filename)\n",
    "\n",
    "    lat_min = -30\n",
    "    lat_max = 90\n",
    "\n",
    "    lon_min=250\n",
    "    lon_max= 10\n",
    "\n",
    "    experiment_family = \"GrandEnsemble\"\n",
    "    experiment = \"hist\"\n",
    "    realization = \"lkm0001\"\n",
    "\n",
    "    filename_dict = {}\n",
    "\n",
    "    filename_dict[\"experiment_family\"] = experiment_family\n",
    "    filename_dict[\"experiment\"] = experiment\n",
    "    filename_dict[\"realization\"] = realization\n",
    "\n",
    "    filename_list = gen_filename_list(filename_dict)\n",
    "    merge_file, merge_dict = cal_merge_time(filename_list, filename_dict)\n",
    "    merge_rho_file, merge_rho_dict = cal_density(merge_file, merge_dict)\n",
    "    merge_rho_remap_file, merge_rho_remap_file_dict = cal_remap(merge_rho_file, merge_rho_dict)\n",
    "    merge_rho_remap_masked_file, merge_rho_remap_masked_file_dict = cal_mask_and_crop(merge_rho_remap_file, merge_rho_remap_file_dict, mask_file = mask_file, lon_min = lon_min, lon_max= lon_max, lat_min=lat_min, lat_max=lat_max)\n",
    "    merge_rho_remap_masked_ym_file, merge_rho_remap_masked_ym_file_dict = cal_yearly_means(merge_rho_remap_masked_file, merge_rho_remap_masked_file_dict)\n"
   ]
  },
  {
   "cell_type": "code",
   "execution_count": null,
   "metadata": {},
   "outputs": [],
   "source": [
    "test_pipeline()"
   ]
  },
  {
   "cell_type": "code",
   "execution_count": null,
   "metadata": {},
   "outputs": [],
   "source": []
  }
 ],
 "metadata": {
  "kernelspec": {
   "display_name": "CNN",
   "language": "python",
   "name": "python3"
  },
  "language_info": {
   "codemirror_mode": {
    "name": "ipython",
    "version": 3
   },
   "file_extension": ".py",
   "mimetype": "text/x-python",
   "name": "python",
   "nbconvert_exporter": "python",
   "pygments_lexer": "ipython3",
   "version": "3.8.16"
  },
  "orig_nbformat": 4,
  "vscode": {
   "interpreter": {
    "hash": "689bb7d798796eef3aabe566407408febfc13e8fa7d5340267927d1031bb8546"
   }
  }
 },
 "nbformat": 4,
 "nbformat_minor": 2
}

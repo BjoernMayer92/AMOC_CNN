{
 "cells": [
  {
   "cell_type": "markdown",
   "metadata": {},
   "source": [
    "# 1 Import Packages"
   ]
  },
  {
   "cell_type": "code",
   "execution_count": 1,
   "metadata": {},
   "outputs": [],
   "source": [
    "import xarray as xr\n",
    "import sys, os\n",
    "from pathlib import Path\n",
    "import glob\n",
    "from cdo import Cdo\n",
    "import matplotlib.pyplot as plt\n",
    "import numpy as np\n",
    "import logging"
   ]
  },
  {
   "cell_type": "code",
   "execution_count": 2,
   "metadata": {},
   "outputs": [],
   "source": [
    "cdo = Cdo()"
   ]
  },
  {
   "cell_type": "markdown",
   "metadata": {},
   "source": [
    "# 2 Metadata"
   ]
  },
  {
   "cell_type": "code",
   "execution_count": 3,
   "metadata": {},
   "outputs": [],
   "source": [
    "sys.path.append(os.path.abspath(Path().resolve().parents[1]))\n",
    "sys.path.append(os.path.abspath(Path().resolve().parents[0]))\n",
    "\n",
    "import config\n",
    "import utils as utils"
   ]
  },
  {
   "cell_type": "code",
   "execution_count": 4,
   "metadata": {},
   "outputs": [],
   "source": [
    "experiment_family = \"GrandEnsemble\"\n",
    "experiment = \"hist\"\n",
    "realization = \"lkm0001\"\n",
    "\n",
    "filename_dict = {}\n",
    "\n",
    "filename_dict[\"experiment_family\"] = experiment_family\n",
    "filename_dict[\"experiment\"] = experiment\n",
    "filename_dict[\"realization\"] = realization"
   ]
  },
  {
   "cell_type": "markdown",
   "metadata": {},
   "source": [
    "# 3 Develop Preprocessing Functions"
   ]
  },
  {
   "cell_type": "code",
   "execution_count": 71,
   "metadata": {},
   "outputs": [],
   "source": [
    "def gen_filename(filename_dict):\n",
    "    if filename_dict[\"experiment_family\"]==\"GrandEnsemble\":\n",
    "        path = os.path.join(config.data_raw_path, filename_dict[\"experiment_family\"], filename_dict[\"experiment\"], filename_dict[\"realization\"], \"amoc\")\n",
    "        filename_template = \"_\".join([filename_dict[\"experiment_family\"], filename_dict[\"experiment\"], filename_dict[\"realization\"], \"amoc\"])+\"*.nc\"        \n",
    "        filename_list = glob.glob(os.path.join(path, filename_template))\n",
    "        \n",
    "        return filename_list[0]"
   ]
  },
  {
   "cell_type": "code",
   "execution_count": 72,
   "metadata": {},
   "outputs": [],
   "source": [
    "file = gen_filename(filename_dict)"
   ]
  },
  {
   "cell_type": "code",
   "execution_count": 45,
   "metadata": {},
   "outputs": [],
   "source": [
    "file_yearmean, file_yearmen_dict = cal_yearly_means(inp_file = file, inp_file_dict = filename_dict)"
   ]
  },
  {
   "cell_type": "code",
   "execution_count": 67,
   "metadata": {},
   "outputs": [],
   "source": [
    "def cal_yearly_mean(inp_file, inp_file_dict):\n",
    "    \n",
    "    out_file, out_file_dict = utils.add_processing_step(inp_file_dict, processing_str = \"amoc_ym\", init_path=config.data_pro_path, init_filestem=\"\",filetype=\"nc\")\n",
    "    \n",
    "    cdo.yearmonmean(input= inp_file, output= out_file)\n",
    "\n",
    "    return out_file, out_file_dict"
   ]
  },
  {
   "cell_type": "code",
   "execution_count": null,
   "metadata": {},
   "outputs": [],
   "source": [
    "cal_yearly_mean(inp:file = filename_)"
   ]
  },
  {
   "cell_type": "code",
   "execution_count": 74,
   "metadata": {},
   "outputs": [],
   "source": [
    "def run_realization(filename_dict):\n",
    "    filename = gen_filename(filename_dict)\n",
    "    print(filename)\n",
    "    cal_yearly_mean(inp_file = filename, inp_file_dict = filename_dict)\n",
    "    \n"
   ]
  },
  {
   "cell_type": "code",
   "execution_count": 75,
   "metadata": {},
   "outputs": [],
   "source": [
    "def run_experiment():\n",
    "    experiment_family = \"GrandEnsemble\"\n",
    "    experiment = \"hist\"\n",
    "\n",
    "\n",
    "    for i, realization_id in enumerate(np.arange(1,101)):\n",
    "        realization = \"lkm\" + str(realization_id).zfill(4)\n",
    "        print(realization)\n",
    "\n",
    "        filename_dict = {}\n",
    "        filename_dict[\"experiment_family\"] = experiment_family\n",
    "        filename_dict[\"experiment\"] = experiment\n",
    "        filename_dict[\"realization\"] = realization\n",
    "        run_realization(filename_dict)\n"
   ]
  },
  {
   "cell_type": "code",
   "execution_count": 76,
   "metadata": {},
   "outputs": [
    {
     "name": "stdout",
     "output_type": "stream",
     "text": [
      "lkm0001\n",
      "/work/uo1075/u301101/Doktorarbeit/CNN/data/raw/GrandEnsemble/hist/lkm0001/amoc/GrandEnsemble_hist_lkm0001_amoc_1850-2005.nc\n",
      "lkm0002\n",
      "/work/uo1075/u301101/Doktorarbeit/CNN/data/raw/GrandEnsemble/hist/lkm0002/amoc/GrandEnsemble_hist_lkm0002_amoc_1850-2005.nc\n",
      "lkm0003\n",
      "/work/uo1075/u301101/Doktorarbeit/CNN/data/raw/GrandEnsemble/hist/lkm0003/amoc/GrandEnsemble_hist_lkm0003_amoc_1850-2005.nc\n",
      "lkm0004\n",
      "/work/uo1075/u301101/Doktorarbeit/CNN/data/raw/GrandEnsemble/hist/lkm0004/amoc/GrandEnsemble_hist_lkm0004_amoc_1850-2005.nc\n",
      "lkm0005\n",
      "/work/uo1075/u301101/Doktorarbeit/CNN/data/raw/GrandEnsemble/hist/lkm0005/amoc/GrandEnsemble_hist_lkm0005_amoc_1850-2005.nc\n",
      "lkm0006\n",
      "/work/uo1075/u301101/Doktorarbeit/CNN/data/raw/GrandEnsemble/hist/lkm0006/amoc/GrandEnsemble_hist_lkm0006_amoc_1850-2005.nc\n",
      "lkm0007\n",
      "/work/uo1075/u301101/Doktorarbeit/CNN/data/raw/GrandEnsemble/hist/lkm0007/amoc/GrandEnsemble_hist_lkm0007_amoc_1850-2005.nc\n",
      "lkm0008\n",
      "/work/uo1075/u301101/Doktorarbeit/CNN/data/raw/GrandEnsemble/hist/lkm0008/amoc/GrandEnsemble_hist_lkm0008_amoc_1850-2005.nc\n",
      "lkm0009\n",
      "/work/uo1075/u301101/Doktorarbeit/CNN/data/raw/GrandEnsemble/hist/lkm0009/amoc/GrandEnsemble_hist_lkm0009_amoc_1850-2005.nc\n",
      "lkm0010\n",
      "/work/uo1075/u301101/Doktorarbeit/CNN/data/raw/GrandEnsemble/hist/lkm0010/amoc/GrandEnsemble_hist_lkm0010_amoc_1850-2005.nc\n",
      "lkm0011\n",
      "/work/uo1075/u301101/Doktorarbeit/CNN/data/raw/GrandEnsemble/hist/lkm0011/amoc/GrandEnsemble_hist_lkm0011_amoc_1850-2005.nc\n",
      "lkm0012\n",
      "/work/uo1075/u301101/Doktorarbeit/CNN/data/raw/GrandEnsemble/hist/lkm0012/amoc/GrandEnsemble_hist_lkm0012_amoc_1850-2005.nc\n",
      "lkm0013\n",
      "/work/uo1075/u301101/Doktorarbeit/CNN/data/raw/GrandEnsemble/hist/lkm0013/amoc/GrandEnsemble_hist_lkm0013_amoc_1850-2005.nc\n",
      "lkm0014\n",
      "/work/uo1075/u301101/Doktorarbeit/CNN/data/raw/GrandEnsemble/hist/lkm0014/amoc/GrandEnsemble_hist_lkm0014_amoc_1850-2005.nc\n",
      "lkm0015\n",
      "/work/uo1075/u301101/Doktorarbeit/CNN/data/raw/GrandEnsemble/hist/lkm0015/amoc/GrandEnsemble_hist_lkm0015_amoc_1850-2005.nc\n",
      "lkm0016\n",
      "/work/uo1075/u301101/Doktorarbeit/CNN/data/raw/GrandEnsemble/hist/lkm0016/amoc/GrandEnsemble_hist_lkm0016_amoc_1850-2005.nc\n",
      "lkm0017\n",
      "/work/uo1075/u301101/Doktorarbeit/CNN/data/raw/GrandEnsemble/hist/lkm0017/amoc/GrandEnsemble_hist_lkm0017_amoc_1850-2005.nc\n",
      "lkm0018\n",
      "/work/uo1075/u301101/Doktorarbeit/CNN/data/raw/GrandEnsemble/hist/lkm0018/amoc/GrandEnsemble_hist_lkm0018_amoc_1850-2005.nc\n",
      "lkm0019\n",
      "/work/uo1075/u301101/Doktorarbeit/CNN/data/raw/GrandEnsemble/hist/lkm0019/amoc/GrandEnsemble_hist_lkm0019_amoc_1850-2005.nc\n",
      "lkm0020\n",
      "/work/uo1075/u301101/Doktorarbeit/CNN/data/raw/GrandEnsemble/hist/lkm0020/amoc/GrandEnsemble_hist_lkm0020_amoc_1850-2005.nc\n",
      "lkm0021\n",
      "/work/uo1075/u301101/Doktorarbeit/CNN/data/raw/GrandEnsemble/hist/lkm0021/amoc/GrandEnsemble_hist_lkm0021_amoc_1850-2005.nc\n",
      "lkm0022\n",
      "/work/uo1075/u301101/Doktorarbeit/CNN/data/raw/GrandEnsemble/hist/lkm0022/amoc/GrandEnsemble_hist_lkm0022_amoc_1850-2005.nc\n",
      "lkm0023\n",
      "/work/uo1075/u301101/Doktorarbeit/CNN/data/raw/GrandEnsemble/hist/lkm0023/amoc/GrandEnsemble_hist_lkm0023_amoc_1850-2005.nc\n",
      "lkm0024\n",
      "/work/uo1075/u301101/Doktorarbeit/CNN/data/raw/GrandEnsemble/hist/lkm0024/amoc/GrandEnsemble_hist_lkm0024_amoc_1850-2005.nc\n",
      "lkm0025\n",
      "/work/uo1075/u301101/Doktorarbeit/CNN/data/raw/GrandEnsemble/hist/lkm0025/amoc/GrandEnsemble_hist_lkm0025_amoc_1850-2005.nc\n",
      "lkm0026\n",
      "/work/uo1075/u301101/Doktorarbeit/CNN/data/raw/GrandEnsemble/hist/lkm0026/amoc/GrandEnsemble_hist_lkm0026_amoc_1850-2005.nc\n",
      "lkm0027\n",
      "/work/uo1075/u301101/Doktorarbeit/CNN/data/raw/GrandEnsemble/hist/lkm0027/amoc/GrandEnsemble_hist_lkm0027_amoc_1850-2005.nc\n",
      "lkm0028\n",
      "/work/uo1075/u301101/Doktorarbeit/CNN/data/raw/GrandEnsemble/hist/lkm0028/amoc/GrandEnsemble_hist_lkm0028_amoc_1850-2005.nc\n",
      "lkm0029\n",
      "/work/uo1075/u301101/Doktorarbeit/CNN/data/raw/GrandEnsemble/hist/lkm0029/amoc/GrandEnsemble_hist_lkm0029_amoc_1850-2005.nc\n",
      "lkm0030\n",
      "/work/uo1075/u301101/Doktorarbeit/CNN/data/raw/GrandEnsemble/hist/lkm0030/amoc/GrandEnsemble_hist_lkm0030_amoc_1850-2005.nc\n",
      "lkm0031\n",
      "/work/uo1075/u301101/Doktorarbeit/CNN/data/raw/GrandEnsemble/hist/lkm0031/amoc/GrandEnsemble_hist_lkm0031_amoc_1850-2005.nc\n",
      "lkm0032\n",
      "/work/uo1075/u301101/Doktorarbeit/CNN/data/raw/GrandEnsemble/hist/lkm0032/amoc/GrandEnsemble_hist_lkm0032_amoc_1850-2005.nc\n",
      "lkm0033\n",
      "/work/uo1075/u301101/Doktorarbeit/CNN/data/raw/GrandEnsemble/hist/lkm0033/amoc/GrandEnsemble_hist_lkm0033_amoc_1850-2005.nc\n",
      "lkm0034\n",
      "/work/uo1075/u301101/Doktorarbeit/CNN/data/raw/GrandEnsemble/hist/lkm0034/amoc/GrandEnsemble_hist_lkm0034_amoc_1850-2005.nc\n",
      "lkm0035\n",
      "/work/uo1075/u301101/Doktorarbeit/CNN/data/raw/GrandEnsemble/hist/lkm0035/amoc/GrandEnsemble_hist_lkm0035_amoc_1850-2005.nc\n",
      "lkm0036\n",
      "/work/uo1075/u301101/Doktorarbeit/CNN/data/raw/GrandEnsemble/hist/lkm0036/amoc/GrandEnsemble_hist_lkm0036_amoc_1850-2005.nc\n",
      "lkm0037\n",
      "/work/uo1075/u301101/Doktorarbeit/CNN/data/raw/GrandEnsemble/hist/lkm0037/amoc/GrandEnsemble_hist_lkm0037_amoc_1850-2005.nc\n",
      "lkm0038\n",
      "/work/uo1075/u301101/Doktorarbeit/CNN/data/raw/GrandEnsemble/hist/lkm0038/amoc/GrandEnsemble_hist_lkm0038_amoc_1850-2005.nc\n",
      "lkm0039\n",
      "/work/uo1075/u301101/Doktorarbeit/CNN/data/raw/GrandEnsemble/hist/lkm0039/amoc/GrandEnsemble_hist_lkm0039_amoc_1850-2005.nc\n",
      "lkm0040\n",
      "/work/uo1075/u301101/Doktorarbeit/CNN/data/raw/GrandEnsemble/hist/lkm0040/amoc/GrandEnsemble_hist_lkm0040_amoc_1850-2005.nc\n",
      "lkm0041\n",
      "/work/uo1075/u301101/Doktorarbeit/CNN/data/raw/GrandEnsemble/hist/lkm0041/amoc/GrandEnsemble_hist_lkm0041_amoc_1850-2005.nc\n"
     ]
    }
   ],
   "source": [
    "run_experiment()"
   ]
  }
 ],
 "metadata": {
  "kernelspec": {
   "display_name": "CNN",
   "language": "python",
   "name": "python3"
  },
  "language_info": {
   "codemirror_mode": {
    "name": "ipython",
    "version": 3
   },
   "file_extension": ".py",
   "mimetype": "text/x-python",
   "name": "python",
   "nbconvert_exporter": "python",
   "pygments_lexer": "ipython3",
   "version": "3.8.16"
  },
  "orig_nbformat": 4,
  "vscode": {
   "interpreter": {
    "hash": "689bb7d798796eef3aabe566407408febfc13e8fa7d5340267927d1031bb8546"
   }
  }
 },
 "nbformat": 4,
 "nbformat_minor": 2
}

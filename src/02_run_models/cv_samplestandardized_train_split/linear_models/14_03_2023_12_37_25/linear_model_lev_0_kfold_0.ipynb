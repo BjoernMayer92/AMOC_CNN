{
 "cells": [
  {
   "cell_type": "markdown",
   "id": "0f98026f",
   "metadata": {
    "papermill": {
     "duration": 0.033244,
     "end_time": "2023-03-14T11:37:45.058266",
     "exception": false,
     "start_time": "2023-03-14T11:37:45.025022",
     "status": "completed"
    },
    "tags": []
   },
   "source": [
    "# 1 Import Packages"
   ]
  },
  {
   "cell_type": "code",
   "execution_count": 1,
   "id": "57a62fe0",
   "metadata": {
    "execution": {
     "iopub.execute_input": "2023-03-14T11:37:45.071386Z",
     "iopub.status.busy": "2023-03-14T11:37:45.070985Z",
     "iopub.status.idle": "2023-03-14T11:38:20.801201Z",
     "shell.execute_reply": "2023-03-14T11:38:20.798690Z"
    },
    "papermill": {
     "duration": 35.739761,
     "end_time": "2023-03-14T11:38:20.804766",
     "exception": false,
     "start_time": "2023-03-14T11:37:45.065005",
     "status": "completed"
    },
    "tags": []
   },
   "outputs": [],
   "source": [
    "import xarray as xr\n",
    "import numpy as np\n",
    "import os\n",
    "import datetime\n",
    "import src.config as config\n",
    "import src.utils as utils\n",
    "\n",
    "import sklearn.linear_model\n",
    "from tqdm import tqdm\n",
    "import cartopy.crs as ccrs\n",
    "import joblib\n",
    "\n",
    "import matplotlib.pyplot as plt"
   ]
  },
  {
   "cell_type": "markdown",
   "id": "e216084b",
   "metadata": {
    "papermill": {
     "duration": 0.005628,
     "end_time": "2023-03-14T11:38:20.818530",
     "exception": false,
     "start_time": "2023-03-14T11:38:20.812902",
     "status": "completed"
    },
    "tags": []
   },
   "source": [
    "# 2 Metadata"
   ]
  },
  {
   "cell_type": "code",
   "execution_count": 2,
   "id": "473a21ef",
   "metadata": {
    "execution": {
     "iopub.execute_input": "2023-03-14T11:38:20.878020Z",
     "iopub.status.busy": "2023-03-14T11:38:20.877338Z",
     "iopub.status.idle": "2023-03-14T11:38:20.882183Z",
     "shell.execute_reply": "2023-03-14T11:38:20.881632Z"
    },
    "papermill": {
     "duration": 0.012816,
     "end_time": "2023-03-14T11:38:20.883340",
     "exception": false,
     "start_time": "2023-03-14T11:38:20.870524",
     "status": "completed"
    },
    "tags": [
     "parameters"
    ]
   },
   "outputs": [],
   "source": [
    "lev_index = 0\n",
    "kfold_index = 0\n",
    "experiment_name = \"cv_samplestandardized_20yr_split\"\n",
    "datetime_string = datetime.datetime.now().strftime(\"%d_%m_%Y_%H_%M_%S\")\n"
   ]
  },
  {
   "cell_type": "code",
   "execution_count": 3,
   "id": "52fafe36",
   "metadata": {
    "execution": {
     "iopub.execute_input": "2023-03-14T11:38:20.895081Z",
     "iopub.status.busy": "2023-03-14T11:38:20.894617Z",
     "iopub.status.idle": "2023-03-14T11:38:20.897621Z",
     "shell.execute_reply": "2023-03-14T11:38:20.897111Z"
    },
    "papermill": {
     "duration": 0.010274,
     "end_time": "2023-03-14T11:38:20.898968",
     "exception": false,
     "start_time": "2023-03-14T11:38:20.888694",
     "status": "completed"
    },
    "tags": [
     "injected-parameters"
    ]
   },
   "outputs": [],
   "source": [
    "# Parameters\n",
    "lev_index = \"0\"\n",
    "kfold_index = \"0\"\n",
    "datetime_string = \"14_03_2023_12_37_25\"\n"
   ]
  },
  {
   "cell_type": "code",
   "execution_count": 4,
   "id": "81a2cc1c",
   "metadata": {
    "execution": {
     "iopub.execute_input": "2023-03-14T11:38:20.910802Z",
     "iopub.status.busy": "2023-03-14T11:38:20.910410Z",
     "iopub.status.idle": "2023-03-14T11:38:20.913319Z",
     "shell.execute_reply": "2023-03-14T11:38:20.912812Z"
    },
    "papermill": {
     "duration": 0.010056,
     "end_time": "2023-03-14T11:38:20.914470",
     "exception": false,
     "start_time": "2023-03-14T11:38:20.904414",
     "status": "completed"
    },
    "tags": []
   },
   "outputs": [],
   "source": [
    "ml_transform_path = os.path.join(config.data_pro_path,\"ml_transform\", experiment_name)"
   ]
  },
  {
   "cell_type": "code",
   "execution_count": 5,
   "id": "7e6b52f1",
   "metadata": {
    "execution": {
     "iopub.execute_input": "2023-03-14T11:38:20.928076Z",
     "iopub.status.busy": "2023-03-14T11:38:20.927605Z",
     "iopub.status.idle": "2023-03-14T11:38:20.931006Z",
     "shell.execute_reply": "2023-03-14T11:38:20.930494Z"
    },
    "papermill": {
     "duration": 0.010529,
     "end_time": "2023-03-14T11:38:20.932173",
     "exception": false,
     "start_time": "2023-03-14T11:38:20.921644",
     "status": "completed"
    },
    "tags": []
   },
   "outputs": [],
   "source": [
    "train_x_filename = \"train_x_lev_{}_{}.nc\".format(lev_index, kfold_index)\n",
    "valid_x_filename = \"valid_x_lev_{}_{}.nc\".format(lev_index, kfold_index)\n",
    "\n",
    "train_y_filename = \"train_y_{}_{}.nc\".format(lev_index, kfold_index)\n",
    "valid_y_filename = \"valid_y_{}_{}.nc\".format(lev_index, kfold_index)"
   ]
  },
  {
   "cell_type": "code",
   "execution_count": 6,
   "id": "f2aaf564",
   "metadata": {
    "execution": {
     "iopub.execute_input": "2023-03-14T11:38:20.944222Z",
     "iopub.status.busy": "2023-03-14T11:38:20.943735Z",
     "iopub.status.idle": "2023-03-14T11:38:20.949324Z",
     "shell.execute_reply": "2023-03-14T11:38:20.948810Z"
    },
    "papermill": {
     "duration": 0.012934,
     "end_time": "2023-03-14T11:38:20.950607",
     "exception": false,
     "start_time": "2023-03-14T11:38:20.937673",
     "status": "completed"
    },
    "tags": []
   },
   "outputs": [],
   "source": [
    "model_name = \"linear_level_{}_kfold_{}\".format(lev_index, kfold_index)\n",
    "model_path = os.path.join(config.model_path,experiment_name, datetime_string,model_name)\n",
    "\n",
    "model_plot_path = os.path.join(model_path, \"plots\")\n",
    "os.makedirs(model_plot_path, exist_ok=True)"
   ]
  },
  {
   "cell_type": "markdown",
   "id": "674031fb",
   "metadata": {
    "papermill": {
     "duration": 0.005356,
     "end_time": "2023-03-14T11:38:20.961513",
     "exception": false,
     "start_time": "2023-03-14T11:38:20.956157",
     "status": "completed"
    },
    "tags": []
   },
   "source": [
    "# 3 Load Data"
   ]
  },
  {
   "cell_type": "code",
   "execution_count": 7,
   "id": "2316ceaf",
   "metadata": {
    "execution": {
     "iopub.execute_input": "2023-03-14T11:38:20.973340Z",
     "iopub.status.busy": "2023-03-14T11:38:20.972965Z",
     "iopub.status.idle": "2023-03-14T11:38:21.507381Z",
     "shell.execute_reply": "2023-03-14T11:38:21.506819Z"
    },
    "papermill": {
     "duration": 0.541936,
     "end_time": "2023-03-14T11:38:21.508968",
     "exception": false,
     "start_time": "2023-03-14T11:38:20.967032",
     "status": "completed"
    },
    "tags": []
   },
   "outputs": [],
   "source": [
    "train_x_xr = xr.open_dataset(os.path.join(ml_transform_path, train_x_filename))\n",
    "valid_x_xr = xr.open_dataset(os.path.join(ml_transform_path, valid_x_filename))"
   ]
  },
  {
   "cell_type": "code",
   "execution_count": 8,
   "id": "7b3165e0",
   "metadata": {
    "execution": {
     "iopub.execute_input": "2023-03-14T11:38:21.521520Z",
     "iopub.status.busy": "2023-03-14T11:38:21.521091Z",
     "iopub.status.idle": "2023-03-14T11:38:21.590209Z",
     "shell.execute_reply": "2023-03-14T11:38:21.589676Z"
    },
    "papermill": {
     "duration": 0.076668,
     "end_time": "2023-03-14T11:38:21.591558",
     "exception": false,
     "start_time": "2023-03-14T11:38:21.514890",
     "status": "completed"
    },
    "tags": []
   },
   "outputs": [],
   "source": [
    "train_y_xr = xr.open_dataset(os.path.join(ml_transform_path, train_y_filename))\n",
    "valid_y_xr = xr.open_dataset(os.path.join(ml_transform_path, valid_y_filename))"
   ]
  },
  {
   "cell_type": "markdown",
   "id": "f6bef10e",
   "metadata": {
    "papermill": {
     "duration": 0.005454,
     "end_time": "2023-03-14T11:38:21.602682",
     "exception": false,
     "start_time": "2023-03-14T11:38:21.597228",
     "status": "completed"
    },
    "tags": []
   },
   "source": [
    "# 4 Processing"
   ]
  },
  {
   "cell_type": "markdown",
   "id": "f6cececb",
   "metadata": {
    "papermill": {
     "duration": 0.005456,
     "end_time": "2023-03-14T11:38:21.613633",
     "exception": false,
     "start_time": "2023-03-14T11:38:21.608177",
     "status": "completed"
    },
    "tags": []
   },
   "source": [
    "## 4.1 Stack Dimensions"
   ]
  },
  {
   "cell_type": "code",
   "execution_count": 9,
   "id": "0111d0cf",
   "metadata": {
    "execution": {
     "iopub.execute_input": "2023-03-14T11:38:21.625767Z",
     "iopub.status.busy": "2023-03-14T11:38:21.625384Z",
     "iopub.status.idle": "2023-03-14T11:38:23.503457Z",
     "shell.execute_reply": "2023-03-14T11:38:23.502826Z"
    },
    "papermill": {
     "duration": 1.88579,
     "end_time": "2023-03-14T11:38:23.505074",
     "exception": false,
     "start_time": "2023-03-14T11:38:21.619284",
     "status": "completed"
    },
    "tags": []
   },
   "outputs": [],
   "source": [
    "train_x_xr_stack = train_x_xr.stack(sample=(\"realization\",\"time\")).stack(feature=(\"lon\",\"lat\"))\n",
    "valid_x_xr_stack = valid_x_xr.stack(sample=(\"realization\",\"time\")).stack(feature=(\"lon\",\"lat\"))"
   ]
  },
  {
   "cell_type": "code",
   "execution_count": 10,
   "id": "f9a6bbef",
   "metadata": {
    "execution": {
     "iopub.execute_input": "2023-03-14T11:38:23.520377Z",
     "iopub.status.busy": "2023-03-14T11:38:23.519935Z",
     "iopub.status.idle": "2023-03-14T11:38:23.526760Z",
     "shell.execute_reply": "2023-03-14T11:38:23.526233Z"
    },
    "papermill": {
     "duration": 0.014519,
     "end_time": "2023-03-14T11:38:23.527991",
     "exception": false,
     "start_time": "2023-03-14T11:38:23.513472",
     "status": "completed"
    },
    "tags": []
   },
   "outputs": [],
   "source": [
    "train_y_xr_stack = train_y_xr.stack(sample=(\"realization\",\"time\"))\n",
    "valid_y_xr_stack = valid_y_xr.stack(sample=(\"realization\",\"time\"))"
   ]
  },
  {
   "cell_type": "code",
   "execution_count": 11,
   "id": "28e9a2d9",
   "metadata": {
    "execution": {
     "iopub.execute_input": "2023-03-14T11:38:23.540412Z",
     "iopub.status.busy": "2023-03-14T11:38:23.540009Z",
     "iopub.status.idle": "2023-03-14T11:38:23.543045Z",
     "shell.execute_reply": "2023-03-14T11:38:23.542517Z"
    },
    "papermill": {
     "duration": 0.010558,
     "end_time": "2023-03-14T11:38:23.544190",
     "exception": false,
     "start_time": "2023-03-14T11:38:23.533632",
     "status": "completed"
    },
    "tags": []
   },
   "outputs": [],
   "source": [
    "valid_sample_coords = valid_y_xr_stack.sample\n",
    "train_sample_coords = train_y_xr_stack.sample"
   ]
  },
  {
   "cell_type": "markdown",
   "id": "e1dcf8a6",
   "metadata": {
    "papermill": {
     "duration": 0.005492,
     "end_time": "2023-03-14T11:38:23.555559",
     "exception": false,
     "start_time": "2023-03-14T11:38:23.550067",
     "status": "completed"
    },
    "tags": []
   },
   "source": [
    "## 4.2 Drop Nans"
   ]
  },
  {
   "cell_type": "code",
   "execution_count": 12,
   "id": "c2693480",
   "metadata": {
    "execution": {
     "iopub.execute_input": "2023-03-14T11:38:23.567787Z",
     "iopub.status.busy": "2023-03-14T11:38:23.567399Z",
     "iopub.status.idle": "2023-03-14T11:38:23.721514Z",
     "shell.execute_reply": "2023-03-14T11:38:23.720883Z"
    },
    "papermill": {
     "duration": 0.161872,
     "end_time": "2023-03-14T11:38:23.723089",
     "exception": false,
     "start_time": "2023-03-14T11:38:23.561217",
     "status": "completed"
    },
    "tags": []
   },
   "outputs": [],
   "source": [
    "train_x_xr_stack_dropna = train_x_xr_stack.dropna(dim=\"feature\")\n",
    "valid_x_xr_stack_dropna = valid_x_xr_stack.dropna(dim=\"feature\")\n",
    "\n",
    "feature_drop_coords = train_x_xr_stack_dropna.feature\n",
    "feature_full_coords = train_x_xr_stack.feature "
   ]
  },
  {
   "cell_type": "markdown",
   "id": "14e76244",
   "metadata": {
    "papermill": {
     "duration": 0.005808,
     "end_time": "2023-03-14T11:38:23.735426",
     "exception": false,
     "start_time": "2023-03-14T11:38:23.729618",
     "status": "completed"
    },
    "tags": []
   },
   "source": [
    "# 5 Model"
   ]
  },
  {
   "cell_type": "code",
   "execution_count": 13,
   "id": "52a2cb1a",
   "metadata": {
    "execution": {
     "iopub.execute_input": "2023-03-14T11:38:23.747825Z",
     "iopub.status.busy": "2023-03-14T11:38:23.747390Z",
     "iopub.status.idle": "2023-03-14T11:38:23.750894Z",
     "shell.execute_reply": "2023-03-14T11:38:23.750360Z"
    },
    "papermill": {
     "duration": 0.011009,
     "end_time": "2023-03-14T11:38:23.752049",
     "exception": false,
     "start_time": "2023-03-14T11:38:23.741040",
     "status": "completed"
    },
    "tags": []
   },
   "outputs": [],
   "source": [
    "train_x_ml_xr = train_x_xr_stack_dropna[\"rho\"]\n",
    "valid_x_ml_xr = valid_x_xr_stack_dropna[\"rho\"]\n",
    "\n",
    "train_y_ml_xr = train_y_xr_stack[\"atlantic_moc\"]\n",
    "valid_y_ml_xr = valid_y_xr_stack[\"atlantic_moc\"]\n"
   ]
  },
  {
   "cell_type": "code",
   "execution_count": 14,
   "id": "6072f52a",
   "metadata": {
    "execution": {
     "iopub.execute_input": "2023-03-14T11:38:23.764464Z",
     "iopub.status.busy": "2023-03-14T11:38:23.764072Z",
     "iopub.status.idle": "2023-03-14T11:38:23.767586Z",
     "shell.execute_reply": "2023-03-14T11:38:23.767070Z"
    },
    "papermill": {
     "duration": 0.011025,
     "end_time": "2023-03-14T11:38:23.768828",
     "exception": false,
     "start_time": "2023-03-14T11:38:23.757803",
     "status": "completed"
    },
    "tags": []
   },
   "outputs": [],
   "source": [
    "def mse_xr(pred, true, sample_dim = \"sample\"):\n",
    "    return np.square(pred - true).mean(dim=sample_dim)"
   ]
  },
  {
   "cell_type": "markdown",
   "id": "f4769ede",
   "metadata": {
    "papermill": {
     "duration": 0.005697,
     "end_time": "2023-03-14T11:38:23.780217",
     "exception": false,
     "start_time": "2023-03-14T11:38:23.774520",
     "status": "completed"
    },
    "tags": []
   },
   "source": [
    "## 5.1 Train"
   ]
  },
  {
   "cell_type": "code",
   "execution_count": 15,
   "id": "4633c441",
   "metadata": {
    "execution": {
     "iopub.execute_input": "2023-03-14T11:38:23.792599Z",
     "iopub.status.busy": "2023-03-14T11:38:23.792207Z",
     "iopub.status.idle": "2023-03-14T11:38:23.795234Z",
     "shell.execute_reply": "2023-03-14T11:38:23.794722Z"
    },
    "papermill": {
     "duration": 0.010477,
     "end_time": "2023-03-14T11:38:23.796377",
     "exception": false,
     "start_time": "2023-03-14T11:38:23.785900",
     "status": "completed"
    },
    "tags": []
   },
   "outputs": [],
   "source": [
    "alpha_list = np.logspace(0,6, 100)"
   ]
  },
  {
   "cell_type": "code",
   "execution_count": null,
   "id": "08c12538",
   "metadata": {
    "papermill": {
     "duration": null,
     "end_time": null,
     "exception": false,
     "start_time": "2023-03-14T11:38:23.802160",
     "status": "running"
    },
    "tags": []
   },
   "outputs": [],
   "source": [
    "train_mse_list = []\n",
    "valid_mse_list = []\n",
    "\n",
    "\n",
    "for i,alpha in tqdm(enumerate(alpha_list)): \n",
    "    \n",
    "    model = sklearn.linear_model.Ridge(alpha = alpha)\n",
    "    \n",
    "    model.fit(train_x_ml_xr, train_y_ml_xr)\n",
    "    \n",
    "    model_intercept = xr.DataArray(model.intercept_)\n",
    "    \n",
    "    model_coef_ml_xr = xr.DataArray(model.coef_, dims = [\"feature\"], coords ={\"feature\":feature_drop_coords} )\n",
    "    model_coef_tmp,_ = xr.align(model_coef_ml_xr, feature_full_coords, join=\"outer\")\n",
    "    \n",
    "    train_y_pred_ml_np = model.predict(train_x_ml_xr)\n",
    "    valid_y_pred_ml_np = model.predict(valid_x_ml_xr)\n",
    "\n",
    "    train_y_pred_ml_xr = xr.DataArray(train_y_pred_ml_np, dims= [\"sample\"], coords = {\"sample\": train_sample_coords, \"alpha\":alpha})\n",
    "    valid_y_pred_ml_xr = xr.DataArray(valid_y_pred_ml_np, dims= [\"sample\"], coords = {\"sample\": valid_sample_coords, \"alpha\":alpha})\n",
    "\n",
    "\n",
    "    train_mse_tmp = mse_xr(train_y_pred_ml_xr, train_y_ml_xr)\n",
    "    valid_mse_tmp = mse_xr(valid_y_pred_ml_xr, valid_y_ml_xr)\n",
    "    \n",
    "    model_name = \"model_{}.sav\".format(i)\n",
    "    model_file = os.path.join(model_path, model_name)\n",
    "    joblib.dump(model, model_file)\n",
    "    \n",
    "\n",
    "    if i == 0: \n",
    "        model_coef = model_coef_tmp.assign_coords({\"alpha\": alpha})\n",
    "        train_mse = train_mse_tmp.assign_coords({\"alpha\":alpha})\n",
    "        valid_mse = valid_mse_tmp.assign_coords({\"alpha\":alpha})\n",
    "        train_pred = train_y_pred_ml_xr.assign_coords({\"alpha\":alpha})\n",
    "        valid_pred = valid_y_pred_ml_xr.assign_coords({\"alpha\":alpha})\n",
    "        model_inte = model_intercept.assign_coords({\"alpha\":alpha})\n",
    "\n",
    "    else:\n",
    "        model_coef = xr.concat([model_coef, model_coef_tmp.assign_coords({\"alpha\":alpha})], dim=\"alpha\")\n",
    "        train_mse = xr.concat([train_mse, train_mse_tmp.assign_coords({\"alpha\":alpha})], dim=\"alpha\")\n",
    "        valid_mse = xr.concat([valid_mse, valid_mse_tmp.assign_coords({\"alpha\":alpha})], dim=\"alpha\")\n",
    "        train_pred = xr.concat([train_pred, train_y_pred_ml_xr.assign_coords({\"alpha\":alpha})], dim=\"alpha\")\n",
    "        valid_pred = xr.concat([valid_pred, valid_y_pred_ml_xr.assign_coords({\"alpha\":alpha})], dim=\"alpha\")\n",
    "        model_inte = xr.concat([model_inte, model_intercept.assign_coords({\"alpha\":alpha})], dim=\"alpha\")\n",
    "        \n",
    "\n",
    "    data = xr.merge([\n",
    "        model_coef.rename(\"coefficients\"),\n",
    "        train_mse.rename(\"train_mse\"), \n",
    "        valid_mse.rename(\"valid_mse\"),\n",
    "        valid_pred.rename(\"valid_pred\"),\n",
    "        train_pred.rename(\"train_pred\"),\n",
    "        model_inte.rename(\"intercept\"),\n",
    "        ])\n"
   ]
  },
  {
   "cell_type": "markdown",
   "id": "25505e0c",
   "metadata": {
    "papermill": {
     "duration": null,
     "end_time": null,
     "exception": null,
     "start_time": null,
     "status": "pending"
    },
    "tags": []
   },
   "source": [
    "## 5.2  Evaluation"
   ]
  },
  {
   "cell_type": "code",
   "execution_count": null,
   "id": "64c0e306",
   "metadata": {
    "papermill": {
     "duration": null,
     "end_time": null,
     "exception": null,
     "start_time": null,
     "status": "pending"
    },
    "tags": []
   },
   "outputs": [],
   "source": [
    "train_corr = xr.corr(train_y_ml_xr, data[\"train_pred\"], dim=\"sample\").rename(\"train_corr\")\n",
    "valid_corr = xr.corr(valid_y_ml_xr, data[\"valid_pred\"], dim=\"sample\").rename(\"valid_corr\")\n"
   ]
  },
  {
   "cell_type": "code",
   "execution_count": null,
   "id": "1d01a80a",
   "metadata": {
    "papermill": {
     "duration": null,
     "end_time": null,
     "exception": null,
     "start_time": null,
     "status": "pending"
    },
    "tags": []
   },
   "outputs": [],
   "source": [
    "diff = (data[\"train_mse\"] - data[\"valid_mse\"]).rename(\"diff_mse\")"
   ]
  },
  {
   "cell_type": "code",
   "execution_count": null,
   "id": "d88a5dfb",
   "metadata": {
    "papermill": {
     "duration": null,
     "end_time": null,
     "exception": null,
     "start_time": null,
     "status": "pending"
    },
    "tags": []
   },
   "outputs": [],
   "source": [
    "data = xr.merge([data, diff, train_corr, valid_corr, train_y_xr_stack[\"atlantic_moc\"].rename(\"train_true\"), valid_y_xr_stack[\"atlantic_moc\"].rename(\"valid_true\")])"
   ]
  },
  {
   "cell_type": "code",
   "execution_count": null,
   "id": "c4e38580",
   "metadata": {
    "papermill": {
     "duration": null,
     "end_time": null,
     "exception": null,
     "start_time": null,
     "status": "pending"
    },
    "tags": []
   },
   "outputs": [],
   "source": [
    "data.unstack().assign_coords({\"kfold_index\": kfold_index}).to_netcdf(os.path.join(model_path, \"data.nc\"))"
   ]
  },
  {
   "cell_type": "code",
   "execution_count": null,
   "id": "b8216f79",
   "metadata": {
    "papermill": {
     "duration": null,
     "end_time": null,
     "exception": null,
     "start_time": null,
     "status": "pending"
    },
    "tags": []
   },
   "outputs": [],
   "source": [
    "alpha_min_diff = data.alpha.isel(alpha = (np.abs(diff).argmin()))\n",
    "alpha_min_val  = data.alpha.isel(alpha = data[\"valid_mse\"].argmin())\n",
    "alpha_min = data.alpha.min()\n",
    "alpha_max = data.alpha.max()\n"
   ]
  },
  {
   "cell_type": "code",
   "execution_count": null,
   "id": "e6cc5aed",
   "metadata": {
    "papermill": {
     "duration": null,
     "end_time": null,
     "exception": null,
     "start_time": null,
     "status": "pending"
    },
    "tags": []
   },
   "outputs": [],
   "source": [
    "fig, ax = plt.subplots(figsize=(12,8))\n",
    "plt.plot(data.alpha, train_corr, color=\"black\", linestyle=\"dashed\", label=\"train cor\")\n",
    "plt.plot(data.alpha, valid_corr, color=\"red\", linestyle=\"dashed\", label=\"valid cor\")\n",
    "plt.plot(data.alpha, data[\"train_mse\"], color=\"black\", label=\"train mse\")\n",
    "plt.plot(data.alpha, data[\"valid_mse\"], color=\"red\",   label=\"valid_mse\")\n",
    "plt.plot(data.alpha, diff, color=\"blue\", label=\"train - valid mse\")\n",
    "plt.xscale(\"log\")\n",
    "\n",
    "plt.axhline(0, color=\"black\")\n",
    "plt.axvline(alpha_min_diff.values.item(), color=\"black\")\n",
    "plt.axvline(alpha_min_val.values.item(), color=\"black\")\n",
    "\n",
    "\n",
    "plt.legend()\n",
    "\n",
    "#plt.ylim(-0.2,1)\n",
    "\n",
    "name = \"linear_exp_{}_lev_{}_date_{}_trainings\".format(experiment_name, lev_index, datetime_string )\n",
    "plt.title(name)\n",
    "plt.savefig(os.path.join(model_plot_path, name))\n",
    "plt.xlabel(\"alpha\")\n",
    "plt.ylabel(\"Error\")\n",
    "\n"
   ]
  },
  {
   "cell_type": "code",
   "execution_count": null,
   "id": "cc524ee4",
   "metadata": {
    "papermill": {
     "duration": null,
     "end_time": null,
     "exception": null,
     "start_time": null,
     "status": "pending"
    },
    "tags": []
   },
   "outputs": [],
   "source": [
    "\n",
    "fig, ax = plt.subplots(figsize=(12,8))\n",
    "\n",
    "\n",
    "\n",
    "plt.scatter(data[\"train_pred\"].sel(alpha=alpha_min_diff).dropna(dim=\"sample\", how=\"all\"), train_y_ml_xr, color=\"black\")\n",
    "plt.scatter(data[\"valid_pred\"].sel(alpha=alpha_min_diff).dropna(dim=\"sample\", how=\"all\"), valid_y_ml_xr, color=\"red\")\n",
    "\n",
    "x = np.arange(15,25+1)\n",
    "plt.xlim(15,25)\n",
    "plt.ylim(15,25)\n",
    "\n",
    "plt.plot(x,x, color=\"black\")\n",
    "plt.axhline(0)\n",
    "plt.axvline(0)\n",
    "\n",
    "plt.xlabel(\"prediction\")\n",
    "plt.ylabel(\"truth\")\n",
    "\n",
    "\n",
    "name = \"linear_exp_{}_lev_{}_date_{}_scatter\".format(experiment_name, lev_index, datetime_string )\n",
    "plt.title(name)\n",
    "plt.savefig(os.path.join(model_plot_path, name))"
   ]
  },
  {
   "cell_type": "code",
   "execution_count": null,
   "id": "ab058b5a",
   "metadata": {
    "papermill": {
     "duration": null,
     "end_time": null,
     "exception": null,
     "start_time": null,
     "status": "pending"
    },
    "tags": []
   },
   "outputs": [],
   "source": [
    "coefficients = data[\"coefficients\"].unstack()"
   ]
  },
  {
   "cell_type": "code",
   "execution_count": null,
   "id": "ae2340ea",
   "metadata": {
    "papermill": {
     "duration": null,
     "end_time": null,
     "exception": null,
     "start_time": null,
     "status": "pending"
    },
    "tags": []
   },
   "outputs": [],
   "source": [
    "fig, ax  = plt.subplots(1,4,figsize=(25,10), subplot_kw = {\"projection\":ccrs.PlateCarree()})\n",
    "\n",
    "ax_ravel = np.ravel(ax)\n",
    "\n",
    "\n",
    "tmp = coefficients.sel(alpha=alpha_min, method=\"nearest\")\n",
    "vmax = np.abs(tmp).max()\n",
    "plot = ax[0].pcolormesh(coefficients.lon, coefficients.lat, tmp.transpose(\"lat\",\"lon\"), vmin=-vmax, vmax= vmax,cmap=\"RdBu_r\", transform=ccrs.PlateCarree())\n",
    "plt.colorbar(plot, ax = ax[0], orientation=\"horizontal\")\n",
    "\n",
    "\n",
    "tmp = coefficients.sel(alpha=alpha_min_val, method=\"nearest\")\n",
    "vmax = np.abs(tmp).max()\n",
    "plot = ax[1].pcolormesh(coefficients.lon, coefficients.lat, tmp.transpose(\"lat\",\"lon\"), vmin=-vmax, vmax=vmax, cmap=\"RdBu_r\", transform=ccrs.PlateCarree())\n",
    "plt.colorbar(plot, ax = ax[1], orientation=\"horizontal\")\n",
    "\n",
    "tmp = coefficients.sel(alpha=alpha_min_diff, method=\"nearest\")\n",
    "vmax = np.abs(tmp).max()\n",
    "plot = ax[2].pcolormesh(coefficients.lon, coefficients.lat, tmp.transpose(\"lat\",\"lon\"), vmin=-vmax, vmax=vmax, cmap=\"RdBu_r\", transform=ccrs.PlateCarree())\n",
    "plt.colorbar(plot, ax = ax[2], orientation=\"horizontal\")\n",
    "\n",
    "tmp = coefficients.sel(alpha=alpha_max, method=\"nearest\")\n",
    "vmax = np.abs(tmp).max()\n",
    "plot = ax[3].pcolormesh(coefficients.lon, coefficients.lat, tmp.transpose(\"lat\",\"lon\"), vmin=-vmax, vmax=vmax,cmap=\"RdBu_r\", transform=ccrs.PlateCarree())\n",
    "plt.colorbar(plot, ax = ax[3], orientation=\"horizontal\")\n",
    "\n",
    "\n",
    "ax[0].set_title(\"alpha_min\")\n",
    "ax[1].set_title(\"alpha_min_val\")\n",
    "ax[2].set_title(\"alpha_min_diff\")\n",
    "ax[3].set_title(\"alpha_max\")\n",
    "\n",
    "for i, ax in enumerate(ax_ravel):\n",
    "    ax.coastlines()\n",
    "    ax.gridlines(xlocs=[0], ylocs = [26.5], draw_labels=True, linewidth=0.5, color='k', alpha=0.5, linestyle='--')\n",
    "\n",
    "name = \"linear_exp_{}_lev_{}_date_{}_maps\".format(experiment_name, lev_index, datetime_string )\n",
    "fig.suptitle(name)\n",
    "plt.savefig(os.path.join(model_plot_path, name))\n",
    "\n"
   ]
  },
  {
   "cell_type": "code",
   "execution_count": null,
   "id": "bd937d6a",
   "metadata": {
    "papermill": {
     "duration": null,
     "end_time": null,
     "exception": null,
     "start_time": null,
     "status": "pending"
    },
    "tags": []
   },
   "outputs": [],
   "source": [
    "data_valid_pred_year = data[\"valid_pred\"].unstack().assign_coords({\"time\":data[\"valid_pred\"].unstack().time.dt.year}).dropna(dim=\"time\", how=\"all\")\n",
    "data_train_pred_year = data[\"train_pred\"].unstack().assign_coords({\"time\":data[\"train_pred\"].unstack().time.dt.year}).dropna(dim=\"time\", how=\"all\")"
   ]
  },
  {
   "cell_type": "code",
   "execution_count": null,
   "id": "4a48e560",
   "metadata": {
    "papermill": {
     "duration": null,
     "end_time": null,
     "exception": null,
     "start_time": null,
     "status": "pending"
    },
    "tags": []
   },
   "outputs": [],
   "source": [
    "data_valid_true_year = valid_y_ml_xr.unstack().assign_coords({\"time\":valid_y_ml_xr.unstack().time.dt.year})\n",
    "data_train_true_year = train_y_ml_xr.unstack().assign_coords({\"time\":train_y_ml_xr.unstack().time.dt.year})"
   ]
  },
  {
   "cell_type": "code",
   "execution_count": null,
   "id": "d81ac9fb",
   "metadata": {
    "papermill": {
     "duration": null,
     "end_time": null,
     "exception": null,
     "start_time": null,
     "status": "pending"
    },
    "tags": []
   },
   "outputs": [],
   "source": [
    "valid_pred_polyfit = data_valid_pred_year.polyfit(deg=1, dim=\"time\")\n",
    "train_pred_polyfit = data_train_pred_year.polyfit(deg=1, dim=\"time\")\n",
    "\n",
    "valid_true_polyfit = data_valid_true_year.polyfit(deg=1, dim=\"time\")\n",
    "train_true_polyfit = data_train_true_year.polyfit(deg=1, dim=\"time\")"
   ]
  },
  {
   "cell_type": "code",
   "execution_count": null,
   "id": "4bd4d880",
   "metadata": {
    "papermill": {
     "duration": null,
     "end_time": null,
     "exception": null,
     "start_time": null,
     "status": "pending"
    },
    "tags": []
   },
   "outputs": [],
   "source": [
    "plt.scatter(train_pred_polyfit[\"polyfit_coefficients\"].isel(degree=0).sel(alpha=alpha_min_val), train_true_polyfit[\"polyfit_coefficients\"].isel(degree=0), color=\"black\", label=\"train\")\n",
    "plt.scatter(valid_pred_polyfit[\"polyfit_coefficients\"].isel(degree=0).sel(alpha=alpha_min_val), valid_true_polyfit[\"polyfit_coefficients\"].isel(degree=0), color=\"red\", label=\"valid\")\n",
    "\n",
    "\n",
    "plt.xlim(-0.2,0.2)\n",
    "plt.ylim(-0.2,0.2)\n",
    "\n",
    "x = np.arange(-2,2)\n",
    "\n",
    "plt.plot(x,x, color=\"black\")\n",
    "\n",
    "\n",
    "plt.xlabel(\"pred trend in Sv/year\")\n",
    "plt.ylabel(\"true trend in Sv/year\")\n",
    "\n",
    "plt.legend()\n",
    "name = \"linear_exp_{}_lev_{}_date_{}_trends\".format(experiment_name, lev_index, datetime_string )\n",
    "plt.title(name)\n",
    "plt.savefig(os.path.join(model_plot_path, name))\n",
    "\n"
   ]
  },
  {
   "cell_type": "code",
   "execution_count": null,
   "id": "a3a68d1f",
   "metadata": {
    "papermill": {
     "duration": null,
     "end_time": null,
     "exception": null,
     "start_time": null,
     "status": "pending"
    },
    "tags": []
   },
   "outputs": [],
   "source": []
  }
 ],
 "metadata": {
  "kernelspec": {
   "display_name": "CNN",
   "language": "python",
   "name": "cnn"
  },
  "language_info": {
   "codemirror_mode": {
    "name": "ipython",
    "version": 3
   },
   "file_extension": ".py",
   "mimetype": "text/x-python",
   "name": "python",
   "nbconvert_exporter": "python",
   "pygments_lexer": "ipython3",
   "version": "3.8.16"
  },
  "papermill": {
   "default_parameters": {},
   "duration": null,
   "end_time": null,
   "environment_variables": {},
   "exception": null,
   "input_path": "linear_model.ipynb",
   "output_path": "./linear_models/14_03_2023_12_37_25/linear_model_lev_0_kfold_0.ipynb",
   "parameters": {
    "datetime_string": "14_03_2023_12_37_25",
    "kfold_index": "0",
    "lev_index": "0"
   },
   "start_time": "2023-03-14T11:37:28.475174",
   "version": "2.3.4"
  }
 },
 "nbformat": 4,
 "nbformat_minor": 5
}
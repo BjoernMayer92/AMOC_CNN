{
 "cells": [
  {
   "cell_type": "markdown",
   "id": "6c90e9fb",
   "metadata": {
    "papermill": {
     "duration": 0.005334,
     "end_time": "2023-02-20T16:29:04.577810",
     "exception": false,
     "start_time": "2023-02-20T16:29:04.572476",
     "status": "completed"
    },
    "tags": []
   },
   "source": [
    "# 1 Import Packages"
   ]
  },
  {
   "cell_type": "code",
   "execution_count": 1,
   "id": "4c14b180",
   "metadata": {
    "execution": {
     "iopub.execute_input": "2023-02-20T16:29:04.587874Z",
     "iopub.status.busy": "2023-02-20T16:29:04.587706Z",
     "iopub.status.idle": "2023-02-20T16:29:08.261153Z",
     "shell.execute_reply": "2023-02-20T16:29:08.258525Z"
    },
    "papermill": {
     "duration": 3.680677,
     "end_time": "2023-02-20T16:29:08.263282",
     "exception": false,
     "start_time": "2023-02-20T16:29:04.582605",
     "status": "completed"
    },
    "tags": []
   },
   "outputs": [],
   "source": [
    "import xarray as xr\n",
    "import numpy as np\n",
    "import os\n",
    "import datetime\n",
    "import src.config as config\n",
    "import src.utils as utils\n",
    "\n",
    "import sklearn.linear_model\n",
    "from tqdm import tqdm\n",
    "import cartopy.crs as ccrs\n",
    "import joblib\n",
    "\n",
    "import matplotlib.pyplot as plt"
   ]
  },
  {
   "cell_type": "markdown",
   "id": "f6ff065d",
   "metadata": {
    "papermill": {
     "duration": 0.00407,
     "end_time": "2023-02-20T16:29:08.272427",
     "exception": false,
     "start_time": "2023-02-20T16:29:08.268357",
     "status": "completed"
    },
    "tags": []
   },
   "source": [
    "# 2 Metadata"
   ]
  },
  {
   "cell_type": "code",
   "execution_count": 2,
   "id": "6dd0f33b",
   "metadata": {
    "execution": {
     "iopub.execute_input": "2023-02-20T16:29:08.281973Z",
     "iopub.status.busy": "2023-02-20T16:29:08.281532Z",
     "iopub.status.idle": "2023-02-20T16:29:08.285701Z",
     "shell.execute_reply": "2023-02-20T16:29:08.285062Z"
    },
    "papermill": {
     "duration": 0.010274,
     "end_time": "2023-02-20T16:29:08.286798",
     "exception": false,
     "start_time": "2023-02-20T16:29:08.276524",
     "status": "completed"
    },
    "tags": [
     "parameters"
    ]
   },
   "outputs": [],
   "source": [
    "lev_index = 0\n",
    "kfold_index = 0\n",
    "exp_name = \"cv\"\n",
    "datetime_string = datetime.datetime.now().strftime(\"%d_%m_%Y_%H_%M_%S\")\n"
   ]
  },
  {
   "cell_type": "code",
   "execution_count": 3,
   "id": "bb8e8914",
   "metadata": {
    "execution": {
     "iopub.execute_input": "2023-02-20T16:29:08.295964Z",
     "iopub.status.busy": "2023-02-20T16:29:08.295791Z",
     "iopub.status.idle": "2023-02-20T16:29:08.298670Z",
     "shell.execute_reply": "2023-02-20T16:29:08.298083Z"
    },
    "papermill": {
     "duration": 0.008643,
     "end_time": "2023-02-20T16:29:08.299704",
     "exception": false,
     "start_time": "2023-02-20T16:29:08.291061",
     "status": "completed"
    },
    "tags": [
     "injected-parameters"
    ]
   },
   "outputs": [],
   "source": [
    "# Parameters\n",
    "lev_index = \"0\"\n",
    "kfold_index = \"4\"\n",
    "datetime_string = \"20_02_2023_17_03_08\"\n"
   ]
  },
  {
   "cell_type": "code",
   "execution_count": 4,
   "id": "61a1b24d",
   "metadata": {
    "execution": {
     "iopub.execute_input": "2023-02-20T16:29:08.309016Z",
     "iopub.status.busy": "2023-02-20T16:29:08.308606Z",
     "iopub.status.idle": "2023-02-20T16:29:08.311676Z",
     "shell.execute_reply": "2023-02-20T16:29:08.311096Z"
    },
    "papermill": {
     "duration": 0.008906,
     "end_time": "2023-02-20T16:29:08.312727",
     "exception": false,
     "start_time": "2023-02-20T16:29:08.303821",
     "status": "completed"
    },
    "tags": []
   },
   "outputs": [],
   "source": [
    "ml_transform_path = os.path.join(config.data_pro_path,\"ml_transform\", exp_name)"
   ]
  },
  {
   "cell_type": "code",
   "execution_count": 5,
   "id": "e9c90ef3",
   "metadata": {
    "execution": {
     "iopub.execute_input": "2023-02-20T16:29:08.321934Z",
     "iopub.status.busy": "2023-02-20T16:29:08.321759Z",
     "iopub.status.idle": "2023-02-20T16:29:08.325057Z",
     "shell.execute_reply": "2023-02-20T16:29:08.324448Z"
    },
    "papermill": {
     "duration": 0.009195,
     "end_time": "2023-02-20T16:29:08.326130",
     "exception": false,
     "start_time": "2023-02-20T16:29:08.316935",
     "status": "completed"
    },
    "tags": []
   },
   "outputs": [],
   "source": [
    "train_x_filename = \"train_data_stack_lonlatstandardized_lev_{}_{}.nc\".format(lev_index, kfold_index)\n",
    "valid_x_filename = \"valid_data_stack_lonlatstandardized_lev_{}_{}.nc\".format(lev_index, kfold_index)\n",
    "\n",
    "train_y_filename = \"train_data_amoc_depth_1020_lat_26_samplestandardized_{}_{}.nc\".format(lev_index, kfold_index)\n",
    "valid_y_filename = \"valid_data_amoc_depth_1020_lat_26_samplestandardized_{}_{}.nc\".format(lev_index, kfold_index)"
   ]
  },
  {
   "cell_type": "code",
   "execution_count": 6,
   "id": "0aa9ff1b",
   "metadata": {
    "execution": {
     "iopub.execute_input": "2023-02-20T16:29:08.336089Z",
     "iopub.status.busy": "2023-02-20T16:29:08.335600Z",
     "iopub.status.idle": "2023-02-20T16:29:08.340046Z",
     "shell.execute_reply": "2023-02-20T16:29:08.339423Z"
    },
    "papermill": {
     "duration": 0.010807,
     "end_time": "2023-02-20T16:29:08.341170",
     "exception": false,
     "start_time": "2023-02-20T16:29:08.330363",
     "status": "completed"
    },
    "tags": []
   },
   "outputs": [],
   "source": [
    "model_name = \"linear_level_{}_kfold_{}\".format(lev_index, kfold_index)\n",
    "model_path = os.path.join(config.model_path,exp_name, datetime_string,model_name)\n",
    "\n",
    "model_plot_path = os.path.join(model_path, \"plots\")\n",
    "os.makedirs(model_plot_path, exist_ok=True)"
   ]
  },
  {
   "cell_type": "markdown",
   "id": "98e4115f",
   "metadata": {
    "papermill": {
     "duration": 0.004322,
     "end_time": "2023-02-20T16:29:08.349824",
     "exception": false,
     "start_time": "2023-02-20T16:29:08.345502",
     "status": "completed"
    },
    "tags": []
   },
   "source": [
    "# 3 Load Data"
   ]
  },
  {
   "cell_type": "code",
   "execution_count": 7,
   "id": "21236f76",
   "metadata": {
    "execution": {
     "iopub.execute_input": "2023-02-20T16:29:08.359126Z",
     "iopub.status.busy": "2023-02-20T16:29:08.358967Z",
     "iopub.status.idle": "2023-02-20T16:29:08.651317Z",
     "shell.execute_reply": "2023-02-20T16:29:08.650411Z"
    },
    "papermill": {
     "duration": 0.299038,
     "end_time": "2023-02-20T16:29:08.653102",
     "exception": false,
     "start_time": "2023-02-20T16:29:08.354064",
     "status": "completed"
    },
    "tags": []
   },
   "outputs": [],
   "source": [
    "train_x_xr = xr.open_dataset(os.path.join(ml_transform_path, train_x_filename))\n",
    "valid_x_xr = xr.open_dataset(os.path.join(ml_transform_path, valid_x_filename))"
   ]
  },
  {
   "cell_type": "code",
   "execution_count": 8,
   "id": "bbc5e4b8",
   "metadata": {
    "execution": {
     "iopub.execute_input": "2023-02-20T16:29:08.663145Z",
     "iopub.status.busy": "2023-02-20T16:29:08.662975Z",
     "iopub.status.idle": "2023-02-20T16:29:08.739948Z",
     "shell.execute_reply": "2023-02-20T16:29:08.739298Z"
    },
    "papermill": {
     "duration": 0.083057,
     "end_time": "2023-02-20T16:29:08.741038",
     "exception": false,
     "start_time": "2023-02-20T16:29:08.657981",
     "status": "completed"
    },
    "tags": []
   },
   "outputs": [],
   "source": [
    "train_y_xr = xr.open_dataset(os.path.join(ml_transform_path, train_y_filename))\n",
    "valid_y_xr = xr.open_dataset(os.path.join(ml_transform_path, valid_y_filename))"
   ]
  },
  {
   "cell_type": "code",
   "execution_count": 9,
   "id": "eddf07a6",
   "metadata": {
    "execution": {
     "iopub.execute_input": "2023-02-20T16:29:08.750694Z",
     "iopub.status.busy": "2023-02-20T16:29:08.750518Z",
     "iopub.status.idle": "2023-02-20T16:29:08.762407Z",
     "shell.execute_reply": "2023-02-20T16:29:08.761832Z"
    },
    "papermill": {
     "duration": 0.017921,
     "end_time": "2023-02-20T16:29:08.763472",
     "exception": false,
     "start_time": "2023-02-20T16:29:08.745551",
     "status": "completed"
    },
    "tags": []
   },
   "outputs": [],
   "source": [
    "train_data_amoc_depth_1020_lat_26_samplestd  = xr.load_dataset(os.path.join(ml_transform_path,\"train_data_amoc_depth_1020_lat_26_samplestd.nc\" ))\n",
    "train_data_amoc_depth_1020_lat_26_samplemean = xr.load_dataset(os.path.join(ml_transform_path,\"train_data_amoc_depth_1020_lat_26_samplemean,nc\"))"
   ]
  },
  {
   "cell_type": "markdown",
   "id": "15d0fa5d",
   "metadata": {
    "papermill": {
     "duration": 0.004203,
     "end_time": "2023-02-20T16:29:08.772087",
     "exception": false,
     "start_time": "2023-02-20T16:29:08.767884",
     "status": "completed"
    },
    "tags": []
   },
   "source": [
    "# 4 Processing"
   ]
  },
  {
   "cell_type": "code",
   "execution_count": 10,
   "id": "4925b35e",
   "metadata": {
    "execution": {
     "iopub.execute_input": "2023-02-20T16:29:08.781486Z",
     "iopub.status.busy": "2023-02-20T16:29:08.781326Z",
     "iopub.status.idle": "2023-02-20T16:29:10.483245Z",
     "shell.execute_reply": "2023-02-20T16:29:10.481522Z"
    },
    "papermill": {
     "duration": 1.710566,
     "end_time": "2023-02-20T16:29:10.486962",
     "exception": false,
     "start_time": "2023-02-20T16:29:08.776396",
     "status": "completed"
    },
    "tags": []
   },
   "outputs": [],
   "source": [
    "train_x_xr_stack = train_x_xr.stack(sample=(\"realization\",\"time\")).stack(feature=(\"lon\",\"lat\"))\n",
    "valid_x_xr_stack = valid_x_xr.stack(sample=(\"realization\",\"time\")).stack(feature=(\"lon\",\"lat\"))\n",
    "\n",
    "feature_coords = train_x_xr_stack.feature\n",
    "sample_coords = train_x_xr_stack.sample\n",
    "\n",
    "train_x_xr_stack_dropna = train_x_xr_stack.dropna(dim=\"feature\")\n",
    "valid_x_xr_stack_dropna = valid_x_xr_stack.dropna(dim=\"feature\")\n",
    "\n",
    "feature_dropna_coords = train_x_xr_stack_dropna.feature"
   ]
  },
  {
   "cell_type": "code",
   "execution_count": 11,
   "id": "a6007bce",
   "metadata": {
    "execution": {
     "iopub.execute_input": "2023-02-20T16:29:10.498878Z",
     "iopub.status.busy": "2023-02-20T16:29:10.498669Z",
     "iopub.status.idle": "2023-02-20T16:29:10.506479Z",
     "shell.execute_reply": "2023-02-20T16:29:10.506016Z"
    },
    "papermill": {
     "duration": 0.014964,
     "end_time": "2023-02-20T16:29:10.507466",
     "exception": false,
     "start_time": "2023-02-20T16:29:10.492502",
     "status": "completed"
    },
    "tags": []
   },
   "outputs": [],
   "source": [
    "train_y_xr_stack = train_y_xr.stack(sample=(\"realization\",\"time\"))\n",
    "valid_y_xr_stack = valid_y_xr.stack(sample=(\"realization\",\"time\"))\n"
   ]
  },
  {
   "cell_type": "markdown",
   "id": "2cc07507",
   "metadata": {
    "papermill": {
     "duration": 0.004804,
     "end_time": "2023-02-20T16:29:10.516916",
     "exception": false,
     "start_time": "2023-02-20T16:29:10.512112",
     "status": "completed"
    },
    "tags": []
   },
   "source": [
    "# 5 Model"
   ]
  },
  {
   "cell_type": "code",
   "execution_count": 12,
   "id": "7cd8922c",
   "metadata": {
    "execution": {
     "iopub.execute_input": "2023-02-20T16:29:10.527011Z",
     "iopub.status.busy": "2023-02-20T16:29:10.526861Z",
     "iopub.status.idle": "2023-02-20T16:29:10.530423Z",
     "shell.execute_reply": "2023-02-20T16:29:10.530001Z"
    },
    "papermill": {
     "duration": 0.009882,
     "end_time": "2023-02-20T16:29:10.531487",
     "exception": false,
     "start_time": "2023-02-20T16:29:10.521605",
     "status": "completed"
    },
    "tags": []
   },
   "outputs": [],
   "source": [
    "valid_sample_coords = valid_y_xr_stack.sample\n",
    "train_sample_coords = train_y_xr_stack.sample\n",
    "\n",
    "feature_drop_coords = train_x_xr_stack_dropna.feature\n",
    "feature_full_coords = train_x_xr_stack.feature \n",
    "\n",
    "train_x_ml_xr = train_x_xr_stack_dropna[\"rho\"]\n",
    "valid_x_ml_xr = valid_x_xr_stack_dropna[\"rho\"]\n",
    "\n",
    "train_y_ml_xr = train_y_xr_stack[\"atlantic_moc\"]\n",
    "valid_y_ml_xr = valid_y_xr_stack[\"atlantic_moc\"]\n",
    "\n",
    "train_y_true_ml_xr = train_y_xr_stack[\"atlantic_moc\"]\n",
    "valid_y_true_ml_xr = valid_y_xr_stack[\"atlantic_moc\"]\n"
   ]
  },
  {
   "cell_type": "code",
   "execution_count": 13,
   "id": "c221dd94",
   "metadata": {
    "execution": {
     "iopub.execute_input": "2023-02-20T16:29:10.541569Z",
     "iopub.status.busy": "2023-02-20T16:29:10.541419Z",
     "iopub.status.idle": "2023-02-20T16:29:10.544156Z",
     "shell.execute_reply": "2023-02-20T16:29:10.543740Z"
    },
    "papermill": {
     "duration": 0.008986,
     "end_time": "2023-02-20T16:29:10.545208",
     "exception": false,
     "start_time": "2023-02-20T16:29:10.536222",
     "status": "completed"
    },
    "tags": []
   },
   "outputs": [],
   "source": [
    "def mse_xr(pred, true, sample_dim = \"sample\"):\n",
    "    return np.square(pred - true).mean(dim=sample_dim)"
   ]
  },
  {
   "cell_type": "markdown",
   "id": "2a505d9d",
   "metadata": {
    "papermill": {
     "duration": 0.004549,
     "end_time": "2023-02-20T16:29:10.554355",
     "exception": false,
     "start_time": "2023-02-20T16:29:10.549806",
     "status": "completed"
    },
    "tags": []
   },
   "source": [
    "## 5.1 Train"
   ]
  },
  {
   "cell_type": "code",
   "execution_count": 14,
   "id": "10b9e595",
   "metadata": {
    "execution": {
     "iopub.execute_input": "2023-02-20T16:29:10.564752Z",
     "iopub.status.busy": "2023-02-20T16:29:10.564595Z",
     "iopub.status.idle": "2023-02-20T16:29:10.569373Z",
     "shell.execute_reply": "2023-02-20T16:29:10.568915Z"
    },
    "papermill": {
     "duration": 0.011179,
     "end_time": "2023-02-20T16:29:10.570318",
     "exception": false,
     "start_time": "2023-02-20T16:29:10.559139",
     "status": "completed"
    },
    "tags": []
   },
   "outputs": [],
   "source": [
    "alpha_list = np.logspace(-2,4, 100)"
   ]
  },
  {
   "cell_type": "code",
   "execution_count": 15,
   "id": "ce0b7bd4",
   "metadata": {
    "execution": {
     "iopub.execute_input": "2023-02-20T16:29:10.581329Z",
     "iopub.status.busy": "2023-02-20T16:29:10.581128Z"
    },
    "papermill": {
     "duration": null,
     "end_time": null,
     "exception": false,
     "start_time": "2023-02-20T16:29:10.575406",
     "status": "running"
    },
    "tags": []
   },
   "outputs": [
    {
     "name": "stderr",
     "output_type": "stream",
     "text": [
      "\r",
      "0it [00:00, ?it/s]"
     ]
    },
    {
     "name": "stderr",
     "output_type": "stream",
     "text": [
      "/work/uo1075/u301101/programming/miniconda3/envs/CNN/lib/python3.8/site-packages/sklearn/linear_model/_ridge.py:216: LinAlgWarning: Ill-conditioned matrix (rcond=2.14509e-09): result may not be accurate.\n",
      "  return linalg.solve(A, Xy, assume_a=\"pos\", overwrite_a=True).T\n"
     ]
    },
    {
     "name": "stderr",
     "output_type": "stream",
     "text": [
      "\r",
      "1it [00:03,  3.44s/it]"
     ]
    },
    {
     "name": "stderr",
     "output_type": "stream",
     "text": [
      "/work/uo1075/u301101/programming/miniconda3/envs/CNN/lib/python3.8/site-packages/sklearn/linear_model/_ridge.py:216: LinAlgWarning: Ill-conditioned matrix (rcond=2.46734e-09): result may not be accurate.\n",
      "  return linalg.solve(A, Xy, assume_a=\"pos\", overwrite_a=True).T\n"
     ]
    },
    {
     "name": "stderr",
     "output_type": "stream",
     "text": [
      "\r",
      "2it [00:06,  3.31s/it]"
     ]
    },
    {
     "name": "stderr",
     "output_type": "stream",
     "text": [
      "/work/uo1075/u301101/programming/miniconda3/envs/CNN/lib/python3.8/site-packages/sklearn/linear_model/_ridge.py:216: LinAlgWarning: Ill-conditioned matrix (rcond=2.83488e-09): result may not be accurate.\n",
      "  return linalg.solve(A, Xy, assume_a=\"pos\", overwrite_a=True).T\n"
     ]
    },
    {
     "name": "stderr",
     "output_type": "stream",
     "text": [
      "\r",
      "3it [00:09,  3.15s/it]"
     ]
    },
    {
     "name": "stderr",
     "output_type": "stream",
     "text": [
      "/work/uo1075/u301101/programming/miniconda3/envs/CNN/lib/python3.8/site-packages/sklearn/linear_model/_ridge.py:216: LinAlgWarning: Ill-conditioned matrix (rcond=3.24248e-09): result may not be accurate.\n",
      "  return linalg.solve(A, Xy, assume_a=\"pos\", overwrite_a=True).T\n"
     ]
    },
    {
     "name": "stderr",
     "output_type": "stream",
     "text": [
      "\r",
      "4it [00:12,  3.11s/it]"
     ]
    },
    {
     "name": "stderr",
     "output_type": "stream",
     "text": [
      "/work/uo1075/u301101/programming/miniconda3/envs/CNN/lib/python3.8/site-packages/sklearn/linear_model/_ridge.py:216: LinAlgWarning: Ill-conditioned matrix (rcond=3.72189e-09): result may not be accurate.\n",
      "  return linalg.solve(A, Xy, assume_a=\"pos\", overwrite_a=True).T\n"
     ]
    },
    {
     "name": "stderr",
     "output_type": "stream",
     "text": [
      "\r",
      "5it [00:15,  2.90s/it]"
     ]
    },
    {
     "name": "stderr",
     "output_type": "stream",
     "text": [
      "/work/uo1075/u301101/programming/miniconda3/envs/CNN/lib/python3.8/site-packages/sklearn/linear_model/_ridge.py:216: LinAlgWarning: Ill-conditioned matrix (rcond=3.94461e-09): result may not be accurate.\n",
      "  return linalg.solve(A, Xy, assume_a=\"pos\", overwrite_a=True).T\n"
     ]
    },
    {
     "name": "stderr",
     "output_type": "stream",
     "text": [
      "\r",
      "6it [00:18,  2.91s/it]"
     ]
    },
    {
     "name": "stderr",
     "output_type": "stream",
     "text": [
      "/work/uo1075/u301101/programming/miniconda3/envs/CNN/lib/python3.8/site-packages/sklearn/linear_model/_ridge.py:216: LinAlgWarning: Ill-conditioned matrix (rcond=4.93175e-09): result may not be accurate.\n",
      "  return linalg.solve(A, Xy, assume_a=\"pos\", overwrite_a=True).T\n"
     ]
    },
    {
     "name": "stderr",
     "output_type": "stream",
     "text": [
      "\r",
      "7it [00:21,  3.00s/it]"
     ]
    },
    {
     "name": "stderr",
     "output_type": "stream",
     "text": [
      "/work/uo1075/u301101/programming/miniconda3/envs/CNN/lib/python3.8/site-packages/sklearn/linear_model/_ridge.py:216: LinAlgWarning: Ill-conditioned matrix (rcond=4.81494e-09): result may not be accurate.\n",
      "  return linalg.solve(A, Xy, assume_a=\"pos\", overwrite_a=True).T\n"
     ]
    },
    {
     "name": "stderr",
     "output_type": "stream",
     "text": [
      "\r",
      "8it [00:24,  3.05s/it]"
     ]
    },
    {
     "name": "stderr",
     "output_type": "stream",
     "text": [
      "/work/uo1075/u301101/programming/miniconda3/envs/CNN/lib/python3.8/site-packages/sklearn/linear_model/_ridge.py:216: LinAlgWarning: Ill-conditioned matrix (rcond=6.1011e-09): result may not be accurate.\n",
      "  return linalg.solve(A, Xy, assume_a=\"pos\", overwrite_a=True).T\n"
     ]
    },
    {
     "name": "stderr",
     "output_type": "stream",
     "text": [
      "\r",
      "9it [00:27,  3.01s/it]"
     ]
    },
    {
     "name": "stderr",
     "output_type": "stream",
     "text": [
      "/work/uo1075/u301101/programming/miniconda3/envs/CNN/lib/python3.8/site-packages/sklearn/linear_model/_ridge.py:216: LinAlgWarning: Ill-conditioned matrix (rcond=6.96953e-09): result may not be accurate.\n",
      "  return linalg.solve(A, Xy, assume_a=\"pos\", overwrite_a=True).T\n"
     ]
    },
    {
     "name": "stderr",
     "output_type": "stream",
     "text": [
      "\r",
      "10it [00:30,  3.00s/it]"
     ]
    },
    {
     "name": "stderr",
     "output_type": "stream",
     "text": [
      "/work/uo1075/u301101/programming/miniconda3/envs/CNN/lib/python3.8/site-packages/sklearn/linear_model/_ridge.py:216: LinAlgWarning: Ill-conditioned matrix (rcond=7.49869e-09): result may not be accurate.\n",
      "  return linalg.solve(A, Xy, assume_a=\"pos\", overwrite_a=True).T\n"
     ]
    },
    {
     "name": "stderr",
     "output_type": "stream",
     "text": [
      "\r",
      "11it [00:33,  2.97s/it]"
     ]
    },
    {
     "name": "stderr",
     "output_type": "stream",
     "text": [
      "/work/uo1075/u301101/programming/miniconda3/envs/CNN/lib/python3.8/site-packages/sklearn/linear_model/_ridge.py:216: LinAlgWarning: Ill-conditioned matrix (rcond=8.6136e-09): result may not be accurate.\n",
      "  return linalg.solve(A, Xy, assume_a=\"pos\", overwrite_a=True).T\n"
     ]
    },
    {
     "name": "stderr",
     "output_type": "stream",
     "text": [
      "\r",
      "12it [00:36,  2.96s/it]"
     ]
    },
    {
     "name": "stderr",
     "output_type": "stream",
     "text": [
      "/work/uo1075/u301101/programming/miniconda3/envs/CNN/lib/python3.8/site-packages/sklearn/linear_model/_ridge.py:216: LinAlgWarning: Ill-conditioned matrix (rcond=9.92315e-09): result may not be accurate.\n",
      "  return linalg.solve(A, Xy, assume_a=\"pos\", overwrite_a=True).T\n"
     ]
    },
    {
     "name": "stderr",
     "output_type": "stream",
     "text": [
      "\r",
      "13it [00:39,  2.97s/it]"
     ]
    },
    {
     "name": "stderr",
     "output_type": "stream",
     "text": [
      "/work/uo1075/u301101/programming/miniconda3/envs/CNN/lib/python3.8/site-packages/sklearn/linear_model/_ridge.py:216: LinAlgWarning: Ill-conditioned matrix (rcond=1.14412e-08): result may not be accurate.\n",
      "  return linalg.solve(A, Xy, assume_a=\"pos\", overwrite_a=True).T\n"
     ]
    },
    {
     "name": "stderr",
     "output_type": "stream",
     "text": [
      "\r",
      "14it [00:41,  2.80s/it]"
     ]
    },
    {
     "name": "stderr",
     "output_type": "stream",
     "text": [
      "/work/uo1075/u301101/programming/miniconda3/envs/CNN/lib/python3.8/site-packages/sklearn/linear_model/_ridge.py:216: LinAlgWarning: Ill-conditioned matrix (rcond=1.44001e-08): result may not be accurate.\n",
      "  return linalg.solve(A, Xy, assume_a=\"pos\", overwrite_a=True).T\n"
     ]
    },
    {
     "name": "stderr",
     "output_type": "stream",
     "text": [
      "\r",
      "15it [00:44,  2.87s/it]"
     ]
    },
    {
     "name": "stderr",
     "output_type": "stream",
     "text": [
      "/work/uo1075/u301101/programming/miniconda3/envs/CNN/lib/python3.8/site-packages/sklearn/linear_model/_ridge.py:216: LinAlgWarning: Ill-conditioned matrix (rcond=1.65805e-08): result may not be accurate.\n",
      "  return linalg.solve(A, Xy, assume_a=\"pos\", overwrite_a=True).T\n"
     ]
    },
    {
     "name": "stderr",
     "output_type": "stream",
     "text": [
      "\r",
      "16it [00:47,  2.91s/it]"
     ]
    },
    {
     "name": "stderr",
     "output_type": "stream",
     "text": [
      "/work/uo1075/u301101/programming/miniconda3/envs/CNN/lib/python3.8/site-packages/sklearn/linear_model/_ridge.py:216: LinAlgWarning: Ill-conditioned matrix (rcond=1.665e-08): result may not be accurate.\n",
      "  return linalg.solve(A, Xy, assume_a=\"pos\", overwrite_a=True).T\n"
     ]
    },
    {
     "name": "stderr",
     "output_type": "stream",
     "text": [
      "\r",
      "17it [00:50,  2.89s/it]"
     ]
    },
    {
     "name": "stderr",
     "output_type": "stream",
     "text": [
      "/work/uo1075/u301101/programming/miniconda3/envs/CNN/lib/python3.8/site-packages/sklearn/linear_model/_ridge.py:216: LinAlgWarning: Ill-conditioned matrix (rcond=2.14189e-08): result may not be accurate.\n",
      "  return linalg.solve(A, Xy, assume_a=\"pos\", overwrite_a=True).T\n"
     ]
    },
    {
     "name": "stderr",
     "output_type": "stream",
     "text": [
      "\r",
      "18it [00:53,  2.93s/it]"
     ]
    },
    {
     "name": "stderr",
     "output_type": "stream",
     "text": [
      "/work/uo1075/u301101/programming/miniconda3/envs/CNN/lib/python3.8/site-packages/sklearn/linear_model/_ridge.py:216: LinAlgWarning: Ill-conditioned matrix (rcond=2.83782e-08): result may not be accurate.\n",
      "  return linalg.solve(A, Xy, assume_a=\"pos\", overwrite_a=True).T\n"
     ]
    },
    {
     "name": "stderr",
     "output_type": "stream",
     "text": [
      "\r",
      "19it [00:56,  2.95s/it]"
     ]
    },
    {
     "name": "stderr",
     "output_type": "stream",
     "text": [
      "/work/uo1075/u301101/programming/miniconda3/envs/CNN/lib/python3.8/site-packages/sklearn/linear_model/_ridge.py:216: LinAlgWarning: Ill-conditioned matrix (rcond=3.20046e-08): result may not be accurate.\n",
      "  return linalg.solve(A, Xy, assume_a=\"pos\", overwrite_a=True).T\n"
     ]
    },
    {
     "name": "stderr",
     "output_type": "stream",
     "text": [
      "\r",
      "20it [00:59,  3.08s/it]"
     ]
    },
    {
     "name": "stderr",
     "output_type": "stream",
     "text": [
      "/work/uo1075/u301101/programming/miniconda3/envs/CNN/lib/python3.8/site-packages/sklearn/linear_model/_ridge.py:216: LinAlgWarning: Ill-conditioned matrix (rcond=3.31349e-08): result may not be accurate.\n",
      "  return linalg.solve(A, Xy, assume_a=\"pos\", overwrite_a=True).T\n"
     ]
    },
    {
     "name": "stderr",
     "output_type": "stream",
     "text": [
      "\r",
      "21it [01:02,  2.96s/it]"
     ]
    },
    {
     "name": "stderr",
     "output_type": "stream",
     "text": [
      "/work/uo1075/u301101/programming/miniconda3/envs/CNN/lib/python3.8/site-packages/sklearn/linear_model/_ridge.py:216: LinAlgWarning: Ill-conditioned matrix (rcond=3.8607e-08): result may not be accurate.\n",
      "  return linalg.solve(A, Xy, assume_a=\"pos\", overwrite_a=True).T\n"
     ]
    },
    {
     "name": "stderr",
     "output_type": "stream",
     "text": [
      "\r",
      "22it [01:05,  2.94s/it]"
     ]
    },
    {
     "name": "stderr",
     "output_type": "stream",
     "text": [
      "/work/uo1075/u301101/programming/miniconda3/envs/CNN/lib/python3.8/site-packages/sklearn/linear_model/_ridge.py:216: LinAlgWarning: Ill-conditioned matrix (rcond=4.50463e-08): result may not be accurate.\n",
      "  return linalg.solve(A, Xy, assume_a=\"pos\", overwrite_a=True).T\n"
     ]
    },
    {
     "name": "stderr",
     "output_type": "stream",
     "text": [
      "\r",
      "23it [01:08,  2.94s/it]"
     ]
    },
    {
     "name": "stderr",
     "output_type": "stream",
     "text": [
      "/work/uo1075/u301101/programming/miniconda3/envs/CNN/lib/python3.8/site-packages/sklearn/linear_model/_ridge.py:216: LinAlgWarning: Ill-conditioned matrix (rcond=5.41472e-08): result may not be accurate.\n",
      "  return linalg.solve(A, Xy, assume_a=\"pos\", overwrite_a=True).T\n"
     ]
    },
    {
     "name": "stderr",
     "output_type": "stream",
     "text": [
      "\r",
      "24it [01:11,  2.91s/it]"
     ]
    },
    {
     "name": "stderr",
     "output_type": "stream",
     "text": [
      "\r",
      "25it [01:14,  2.94s/it]"
     ]
    },
    {
     "name": "stderr",
     "output_type": "stream",
     "text": [
      "\r",
      "26it [01:17,  3.02s/it]"
     ]
    },
    {
     "name": "stderr",
     "output_type": "stream",
     "text": [
      "\r",
      "27it [01:20,  2.97s/it]"
     ]
    },
    {
     "name": "stderr",
     "output_type": "stream",
     "text": [
      "\r",
      "28it [01:23,  2.96s/it]"
     ]
    },
    {
     "name": "stderr",
     "output_type": "stream",
     "text": [
      "\r",
      "29it [01:26,  2.96s/it]"
     ]
    },
    {
     "name": "stderr",
     "output_type": "stream",
     "text": [
      "\r",
      "30it [01:29,  3.02s/it]"
     ]
    },
    {
     "name": "stderr",
     "output_type": "stream",
     "text": [
      "\r",
      "31it [01:32,  3.05s/it]"
     ]
    },
    {
     "name": "stderr",
     "output_type": "stream",
     "text": [
      "\r",
      "32it [01:35,  3.11s/it]"
     ]
    },
    {
     "name": "stderr",
     "output_type": "stream",
     "text": [
      "\r",
      "33it [01:39,  3.16s/it]"
     ]
    },
    {
     "name": "stderr",
     "output_type": "stream",
     "text": [
      "\r",
      "34it [01:42,  3.23s/it]"
     ]
    },
    {
     "name": "stderr",
     "output_type": "stream",
     "text": [
      "\r",
      "35it [01:45,  3.17s/it]"
     ]
    },
    {
     "name": "stderr",
     "output_type": "stream",
     "text": [
      "\r",
      "36it [01:48,  3.16s/it]"
     ]
    },
    {
     "name": "stderr",
     "output_type": "stream",
     "text": [
      "\r",
      "37it [01:51,  3.07s/it]"
     ]
    },
    {
     "name": "stderr",
     "output_type": "stream",
     "text": [
      "\r",
      "38it [01:54,  3.07s/it]"
     ]
    },
    {
     "name": "stderr",
     "output_type": "stream",
     "text": [
      "\r",
      "39it [01:57,  3.15s/it]"
     ]
    },
    {
     "name": "stderr",
     "output_type": "stream",
     "text": [
      "\r",
      "40it [02:00,  3.08s/it]"
     ]
    },
    {
     "name": "stderr",
     "output_type": "stream",
     "text": [
      "\r",
      "41it [02:03,  3.07s/it]"
     ]
    },
    {
     "name": "stderr",
     "output_type": "stream",
     "text": [
      "\r",
      "42it [02:06,  3.06s/it]"
     ]
    },
    {
     "name": "stderr",
     "output_type": "stream",
     "text": [
      "\r",
      "43it [02:09,  3.07s/it]"
     ]
    },
    {
     "name": "stderr",
     "output_type": "stream",
     "text": [
      "\r",
      "44it [02:12,  3.03s/it]"
     ]
    },
    {
     "name": "stderr",
     "output_type": "stream",
     "text": [
      "\r",
      "45it [02:15,  2.86s/it]"
     ]
    },
    {
     "name": "stderr",
     "output_type": "stream",
     "text": [
      "\r",
      "46it [02:18,  2.90s/it]"
     ]
    },
    {
     "name": "stderr",
     "output_type": "stream",
     "text": [
      "\r",
      "47it [02:21,  2.94s/it]"
     ]
    },
    {
     "name": "stderr",
     "output_type": "stream",
     "text": [
      "\r",
      "48it [02:24,  3.00s/it]"
     ]
    },
    {
     "name": "stderr",
     "output_type": "stream",
     "text": [
      "\r",
      "49it [02:27,  3.01s/it]"
     ]
    },
    {
     "name": "stderr",
     "output_type": "stream",
     "text": [
      "\r",
      "50it [02:30,  3.05s/it]"
     ]
    },
    {
     "name": "stderr",
     "output_type": "stream",
     "text": [
      "\r",
      "51it [02:33,  3.05s/it]"
     ]
    },
    {
     "name": "stderr",
     "output_type": "stream",
     "text": [
      "\r",
      "52it [02:36,  3.09s/it]"
     ]
    }
   ],
   "source": [
    "train_mse_list = []\n",
    "valid_mse_list = []\n",
    "\n",
    "\n",
    "for i,alpha in tqdm(enumerate(alpha_list)): \n",
    "    \n",
    "    model = sklearn.linear_model.Ridge(alpha = alpha)\n",
    "    \n",
    "    model.fit(train_x_ml_xr, train_y_ml_xr)\n",
    "    \n",
    "    model_coef_ml_xr = xr.DataArray(model.coef_, dims = [\"feature\"], coords ={\"feature\":feature_drop_coords} )\n",
    "    model_coef_tmp,_ = xr.align(model_coef_ml_xr, feature_coords, join=\"outer\")\n",
    "\n",
    "    train_y_pred_ml_np = model.predict(train_x_ml_xr)\n",
    "    valid_y_pred_ml_np = model.predict(valid_x_ml_xr)\n",
    "\n",
    "    train_y_pred_ml_xr = xr.DataArray(train_y_pred_ml_np, dims= [\"sample\"], coords = {\"sample\": train_sample_coords, \"alpha\":alpha})\n",
    "    valid_y_pred_ml_xr = xr.DataArray(valid_y_pred_ml_np, dims= [\"sample\"], coords = {\"sample\": valid_sample_coords, \"alpha\":alpha})\n",
    "\n",
    "\n",
    "    train_mse_tmp = mse_xr(train_y_pred_ml_xr, train_y_true_ml_xr)\n",
    "    valid_mse_tmp = mse_xr(valid_y_pred_ml_xr, valid_y_true_ml_xr)\n",
    "    \n",
    "    model_name = \"model_{}.sav\".format(i)\n",
    "    model_file = os.path.join(model_path, model_name)\n",
    "    joblib.dump(model, model_file)\n",
    "    \n",
    "\n",
    "    if i == 0: \n",
    "        model_coef = model_coef_tmp.assign_coords({\"alpha\": alpha})\n",
    "        train_mse = train_mse_tmp.assign_coords({\"alpha\":alpha})\n",
    "        valid_mse = valid_mse_tmp.assign_coords({\"alpha\":alpha})\n",
    "        train_pred = train_y_pred_ml_xr.assign_coords({\"alpha\":alpha})\n",
    "        valid_pred = valid_y_pred_ml_xr.assign_coords({\"alpha\":alpha})\n",
    "\n",
    "    else:\n",
    "        model_coef = xr.concat([model_coef, model_coef_tmp.assign_coords({\"alpha\":alpha})], dim=\"alpha\")\n",
    "        train_mse = xr.concat([train_mse, train_mse_tmp.assign_coords({\"alpha\":alpha})], dim=\"alpha\")\n",
    "        valid_mse = xr.concat([valid_mse, valid_mse_tmp.assign_coords({\"alpha\":alpha})], dim=\"alpha\")\n",
    "        train_pred = xr.concat([train_pred, train_y_pred_ml_xr.assign_coords({\"alpha\":alpha})], dim=\"alpha\")\n",
    "        valid_pred = xr.concat([valid_pred, valid_y_pred_ml_xr.assign_coords({\"alpha\":alpha})], dim=\"alpha\")\n",
    "        \n",
    "\n",
    "    data = xr.merge([\n",
    "        model_coef.rename(\"coefficients\"),\n",
    "        train_mse.rename(\"train_mse\"), \n",
    "        valid_mse.rename(\"valid_mse\"),\n",
    "        valid_pred.rename(\"valid_pred\"),\n",
    "        train_pred.rename(\"train_pred\"),\n",
    "        ])\n"
   ]
  },
  {
   "cell_type": "markdown",
   "id": "1264794e",
   "metadata": {
    "papermill": {
     "duration": null,
     "end_time": null,
     "exception": null,
     "start_time": null,
     "status": "pending"
    },
    "tags": []
   },
   "source": [
    "## 5.2  Evaluation"
   ]
  },
  {
   "cell_type": "code",
   "execution_count": null,
   "id": "ccb5b27e",
   "metadata": {
    "papermill": {
     "duration": null,
     "end_time": null,
     "exception": null,
     "start_time": null,
     "status": "pending"
    },
    "tags": []
   },
   "outputs": [],
   "source": [
    "train_corr = xr.corr(train_y_true_ml_xr, data[\"train_pred\"], dim=\"sample\").rename(\"train_corr\")\n",
    "valid_corr = xr.corr(valid_y_true_ml_xr, data[\"valid_pred\"], dim=\"sample\").rename(\"valid_corr\")\n"
   ]
  },
  {
   "cell_type": "code",
   "execution_count": null,
   "id": "6e20d756",
   "metadata": {
    "papermill": {
     "duration": null,
     "end_time": null,
     "exception": null,
     "start_time": null,
     "status": "pending"
    },
    "tags": []
   },
   "outputs": [],
   "source": [
    "diff = (data[\"train_mse\"] - data[\"valid_mse\"]).rename(\"diff_mse\")"
   ]
  },
  {
   "cell_type": "code",
   "execution_count": null,
   "id": "3ef89087",
   "metadata": {
    "papermill": {
     "duration": null,
     "end_time": null,
     "exception": null,
     "start_time": null,
     "status": "pending"
    },
    "tags": []
   },
   "outputs": [],
   "source": [
    "data = xr.merge([data, diff, train_corr, valid_corr])"
   ]
  },
  {
   "cell_type": "code",
   "execution_count": null,
   "id": "0e981309",
   "metadata": {
    "papermill": {
     "duration": null,
     "end_time": null,
     "exception": null,
     "start_time": null,
     "status": "pending"
    },
    "tags": []
   },
   "outputs": [],
   "source": [
    "data.unstack().assign_coords({\"kfold_index\": kfold_index}).to_netcdf(os.path.join(model_path, \"data.nc\"))"
   ]
  },
  {
   "cell_type": "code",
   "execution_count": null,
   "id": "49ec8b23",
   "metadata": {
    "papermill": {
     "duration": null,
     "end_time": null,
     "exception": null,
     "start_time": null,
     "status": "pending"
    },
    "tags": []
   },
   "outputs": [],
   "source": [
    "alpha_min_diff = data.alpha.isel(alpha = (np.abs(diff).argmin()))\n",
    "alpha_min_val  = data.alpha.isel(alpha = data[\"valid_mse\"].argmin())\n",
    "alpha_min = data.alpha.min()\n",
    "alpha_max = data.alpha.max()\n"
   ]
  },
  {
   "cell_type": "code",
   "execution_count": null,
   "id": "60f06642",
   "metadata": {
    "papermill": {
     "duration": null,
     "end_time": null,
     "exception": null,
     "start_time": null,
     "status": "pending"
    },
    "tags": []
   },
   "outputs": [],
   "source": [
    "fig, ax = plt.subplots(figsize=(12,8))\n",
    "plt.plot(data.alpha, train_corr, color=\"black\", linestyle=\"dashed\", label=\"train cor\")\n",
    "plt.plot(data.alpha, valid_corr, color=\"red\", linestyle=\"dashed\", label=\"valid cor\")\n",
    "plt.plot(data.alpha, data[\"train_mse\"], color=\"black\", label=\"train mse\")\n",
    "plt.plot(data.alpha, data[\"valid_mse\"], color=\"red\",   label=\"valid_mse\")\n",
    "plt.plot(data.alpha, diff, color=\"blue\", label=\"train - valid mse\")\n",
    "plt.xscale(\"log\")\n",
    "\n",
    "plt.axhline(0, color=\"black\")\n",
    "plt.axvline(alpha_min_diff.values.item(), color=\"black\")\n",
    "plt.axvline(alpha_min_val.values.item(), color=\"black\")\n",
    "\n",
    "\n",
    "plt.legend()\n",
    "\n",
    "plt.ylim(-0.2,1)\n",
    "\n",
    "name = \"linear_exp_{}_lev_{}_date_{}_trainings\".format(exp_name, lev_index, datetime_string )\n",
    "plt.title(name)\n",
    "plt.savefig(os.path.join(model_plot_path, name))\n",
    "plt.xlabel(\"alpha\")\n",
    "plt.ylabel(\"Error\")\n",
    "\n"
   ]
  },
  {
   "cell_type": "code",
   "execution_count": null,
   "id": "010873ff",
   "metadata": {
    "papermill": {
     "duration": null,
     "end_time": null,
     "exception": null,
     "start_time": null,
     "status": "pending"
    },
    "tags": []
   },
   "outputs": [],
   "source": [
    "\n",
    "fig, ax = plt.subplots(figsize=(12,8))\n",
    "\n",
    "plt.xlim(-4,4)\n",
    "plt.ylim(-4,4)\n",
    "\n",
    "plt.scatter(data[\"train_pred\"].sel(alpha=alpha_min_diff).dropna(dim=\"sample\", how=\"all\"), train_y_true_ml_xr, color=\"black\")\n",
    "plt.scatter(data[\"valid_pred\"].sel(alpha=alpha_min_diff).dropna(dim=\"sample\", how=\"all\"), valid_y_true_ml_xr, color=\"red\")\n",
    "\n",
    "x = np.arange(-4,5)\n",
    "\n",
    "\n",
    "plt.plot(x,x, color=\"black\")\n",
    "plt.axhline(0)\n",
    "plt.axvline(0)\n",
    "\n",
    "plt.xlabel(\"prediction\")\n",
    "plt.ylabel(\"truth\")\n",
    "\n",
    "\n",
    "name = \"linear_exp_{}_lev_{}_date_{}_scatter\".format(exp_name, lev_index, datetime_string )\n",
    "plt.title(name)\n",
    "plt.savefig(os.path.join(model_plot_path, name))\n",
    "\n"
   ]
  },
  {
   "cell_type": "code",
   "execution_count": null,
   "id": "bf04dabd",
   "metadata": {
    "papermill": {
     "duration": null,
     "end_time": null,
     "exception": null,
     "start_time": null,
     "status": "pending"
    },
    "tags": []
   },
   "outputs": [],
   "source": [
    "coefficients = data[\"coefficients\"].unstack()"
   ]
  },
  {
   "cell_type": "code",
   "execution_count": null,
   "id": "6ab3a6e0",
   "metadata": {
    "papermill": {
     "duration": null,
     "end_time": null,
     "exception": null,
     "start_time": null,
     "status": "pending"
    },
    "tags": []
   },
   "outputs": [],
   "source": [
    "fig, ax  = plt.subplots(1,4,figsize=(25,10), subplot_kw = {\"projection\":ccrs.PlateCarree()})\n",
    "\n",
    "ax_ravel = np.ravel(ax)\n",
    "\n",
    "\n",
    "tmp = coefficients.sel(alpha=alpha_min, method=\"nearest\")\n",
    "vmax = np.abs(tmp).max()\n",
    "plot = ax[0].pcolormesh(coefficients.lon, coefficients.lat, tmp.transpose(\"lat\",\"lon\"), vmin=-vmax, vmax= vmax,cmap=\"RdBu_r\", transform=ccrs.PlateCarree())\n",
    "plt.colorbar(plot, ax = ax[0], orientation=\"horizontal\")\n",
    "\n",
    "\n",
    "tmp = coefficients.sel(alpha=alpha_min_val, method=\"nearest\")\n",
    "vmax = np.abs(tmp).max()\n",
    "plot = ax[1].pcolormesh(coefficients.lon, coefficients.lat, tmp.transpose(\"lat\",\"lon\"), vmin=-vmax, vmax=vmax, cmap=\"RdBu_r\", transform=ccrs.PlateCarree())\n",
    "plt.colorbar(plot, ax = ax[1], orientation=\"horizontal\")\n",
    "\n",
    "tmp = coefficients.sel(alpha=alpha_min_diff, method=\"nearest\")\n",
    "vmax = np.abs(tmp).max()\n",
    "plot = ax[2].pcolormesh(coefficients.lon, coefficients.lat, tmp.transpose(\"lat\",\"lon\"), vmin=-vmax, vmax=vmax, cmap=\"RdBu_r\", transform=ccrs.PlateCarree())\n",
    "plt.colorbar(plot, ax = ax[2], orientation=\"horizontal\")\n",
    "\n",
    "tmp = coefficients.sel(alpha=alpha_max, method=\"nearest\")\n",
    "vmax = np.abs(tmp).max()\n",
    "plot = ax[3].pcolormesh(coefficients.lon, coefficients.lat, tmp.transpose(\"lat\",\"lon\"), vmin=-vmax, vmax=vmax,cmap=\"RdBu_r\", transform=ccrs.PlateCarree())\n",
    "plt.colorbar(plot, ax = ax[3], orientation=\"horizontal\")\n",
    "\n",
    "\n",
    "ax[0].set_title(\"alpha_min\")\n",
    "ax[1].set_title(\"alpha_min_diff\")\n",
    "ax[2].set_title(\"alpha_min_val\")\n",
    "ax[3].set_title(\"alpha_max\")\n",
    "\n",
    "for i, ax in enumerate(ax_ravel):\n",
    "    ax.coastlines()\n",
    "    ax.gridlines(xlocs=[0], ylocs = [26.5], draw_labels=True, linewidth=0.5, color='k', alpha=0.5, linestyle='--')\n",
    "\n",
    "name = \"linear_exp_{}_lev_{}_date_{}_maps\".format(exp_name, lev_index, datetime_string )\n",
    "fig.suptitle(name)\n",
    "plt.savefig(os.path.join(model_plot_path, name))\n",
    "\n"
   ]
  },
  {
   "cell_type": "code",
   "execution_count": null,
   "id": "3065bfc7",
   "metadata": {
    "papermill": {
     "duration": null,
     "end_time": null,
     "exception": null,
     "start_time": null,
     "status": "pending"
    },
    "tags": []
   },
   "outputs": [],
   "source": [
    "data_valid_pred_year = data[\"valid_pred\"].unstack().assign_coords({\"time\":data[\"valid_pred\"].unstack().time.dt.year}).dropna(dim=\"time\", how=\"all\")\n",
    "data_train_pred_year = data[\"train_pred\"].unstack().assign_coords({\"time\":data[\"train_pred\"].unstack().time.dt.year}).dropna(dim=\"time\", how=\"all\")"
   ]
  },
  {
   "cell_type": "code",
   "execution_count": null,
   "id": "a5e0bfd6",
   "metadata": {
    "papermill": {
     "duration": null,
     "end_time": null,
     "exception": null,
     "start_time": null,
     "status": "pending"
    },
    "tags": []
   },
   "outputs": [],
   "source": [
    "data_valid_true_year = valid_y_true_ml_xr.unstack().assign_coords({\"time\":valid_y_true_ml_xr.unstack().time.dt.year})\n",
    "data_train_true_year = train_y_true_ml_xr.unstack().assign_coords({\"time\":train_y_true_ml_xr.unstack().time.dt.year})"
   ]
  },
  {
   "cell_type": "code",
   "execution_count": null,
   "id": "dd4fcb62",
   "metadata": {
    "papermill": {
     "duration": null,
     "end_time": null,
     "exception": null,
     "start_time": null,
     "status": "pending"
    },
    "tags": []
   },
   "outputs": [],
   "source": [
    "valid_pred_polyfit = data_valid_pred_year.polyfit(deg=1, dim=\"time\")\n",
    "train_pred_polyfit = data_train_pred_year.polyfit(deg=1, dim=\"time\")\n",
    "\n",
    "valid_true_polyfit = data_valid_true_year.polyfit(deg=1, dim=\"time\")\n",
    "train_true_polyfit = data_train_true_year.polyfit(deg=1, dim=\"time\")"
   ]
  },
  {
   "cell_type": "code",
   "execution_count": null,
   "id": "59222c1d",
   "metadata": {
    "papermill": {
     "duration": null,
     "end_time": null,
     "exception": null,
     "start_time": null,
     "status": "pending"
    },
    "tags": []
   },
   "outputs": [],
   "source": [
    "plt.scatter(train_pred_polyfit[\"polyfit_coefficients\"].isel(degree=0).sel(alpha=alpha_min_val), train_true_polyfit[\"polyfit_coefficients\"].isel(degree=0), color=\"black\", label=\"train\")\n",
    "plt.scatter(valid_pred_polyfit[\"polyfit_coefficients\"].isel(degree=0).sel(alpha=alpha_min_val), valid_true_polyfit[\"polyfit_coefficients\"].isel(degree=0), color=\"red\", label=\"valid\")\n",
    "\n",
    "\n",
    "plt.xlim(-0.2,0.2)\n",
    "plt.ylim(-0.2,0.2)\n",
    "\n",
    "x = np.arange(-2,2)\n",
    "\n",
    "plt.plot(x,x, color=\"black\")\n",
    "\n",
    "\n",
    "plt.xlabel(\"pred trend in Sv/year\")\n",
    "plt.ylabel(\"true trend in Sv/year\")\n",
    "\n",
    "plt.legend()\n",
    "name = \"linear_exp_{}_lev_{}_date_{}_trends\".format(exp_name, lev_index, datetime_string )\n",
    "plt.title(name)\n",
    "plt.savefig(os.path.join(model_plot_path, name))\n",
    "\n"
   ]
  },
  {
   "cell_type": "code",
   "execution_count": null,
   "id": "360e837e",
   "metadata": {
    "papermill": {
     "duration": null,
     "end_time": null,
     "exception": null,
     "start_time": null,
     "status": "pending"
    },
    "tags": []
   },
   "outputs": [],
   "source": []
  }
 ],
 "metadata": {
  "kernelspec": {
   "display_name": "CNN",
   "language": "python",
   "name": "cnn"
  },
  "language_info": {
   "codemirror_mode": {
    "name": "ipython",
    "version": 3
   },
   "file_extension": ".py",
   "mimetype": "text/x-python",
   "name": "python",
   "nbconvert_exporter": "python",
   "pygments_lexer": "ipython3",
   "version": "3.8.16"
  },
  "papermill": {
   "default_parameters": {},
   "duration": null,
   "end_time": null,
   "environment_variables": {},
   "exception": null,
   "input_path": "cv_linear_model.ipynb",
   "output_path": "./linear_models/20_02_2023_17_03_08/cv_linear_model_lev_0_kfold_4.ipynb",
   "parameters": {
    "datetime_string": "20_02_2023_17_03_08",
    "kfold_index": "4",
    "lev_index": "0"
   },
   "start_time": "2023-02-20T16:29:01.681662",
   "version": "2.3.4"
  },
  "vscode": {
   "interpreter": {
    "hash": "689bb7d798796eef3aabe566407408febfc13e8fa7d5340267927d1031bb8546"
   }
  }
 },
 "nbformat": 4,
 "nbformat_minor": 5
}
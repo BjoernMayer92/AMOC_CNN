{
 "cells": [
  {
   "cell_type": "markdown",
   "id": "d5d9272b",
   "metadata": {
    "papermill": {
     "duration": null,
     "end_time": null,
     "exception": null,
     "start_time": null,
     "status": "completed"
    },
    "tags": []
   },
   "source": [
    "# 1 Import Packages"
   ]
  },
  {
   "cell_type": "code",
   "execution_count": null,
   "id": "0ad6157a",
   "metadata": {
    "papermill": {
     "duration": null,
     "end_time": null,
     "exception": null,
     "start_time": null,
     "status": "completed"
    },
    "tags": []
   },
   "outputs": [],
   "source": [
    "import xarray as xr\n",
    "import numpy as np\n",
    "import os\n",
    "import datetime\n",
    "import src.config as config\n",
    "import src.utils as utils\n",
    "\n",
    "import sklearn.linear_model\n",
    "from tqdm import tqdm\n",
    "import cartopy.crs as ccrs\n",
    "import joblib\n",
    "\n",
    "import matplotlib.pyplot as plt"
   ]
  },
  {
   "cell_type": "markdown",
   "id": "0f9aeb0e",
   "metadata": {
    "papermill": {
     "duration": null,
     "end_time": null,
     "exception": null,
     "start_time": null,
     "status": "completed"
    },
    "tags": []
   },
   "source": [
    "# 2 Metadata"
   ]
  },
  {
   "cell_type": "code",
   "execution_count": null,
   "id": "1e0239af",
   "metadata": {
    "papermill": {
     "duration": null,
     "end_time": null,
     "exception": null,
     "start_time": null,
     "status": "completed"
    },
    "tags": [
     "parameters"
    ]
   },
   "outputs": [],
   "source": [
    "lev_index = 0\n",
    "kfold_index = 0\n",
    "exp_name = \"cv\"\n",
    "datetime_string = datetime.datetime.now().strftime(\"%d_%m_%Y_%H_%M_%S\")\n"
   ]
  },
  {
   "cell_type": "code",
   "execution_count": null,
   "id": "536dece7",
   "metadata": {
    "papermill": {
     "duration": null,
     "end_time": null,
     "exception": null,
     "start_time": null,
     "status": "completed"
    },
    "tags": [
     "injected-parameters"
    ]
   },
   "outputs": [],
   "source": [
    "# Parameters\n",
    "lev_index = \"0\"\n",
    "kfold_index = \"2\"\n",
    "datetime_string = \"20_02_2023_16_42_50\"\n"
   ]
  },
  {
   "cell_type": "code",
   "execution_count": null,
   "id": "b35e9252",
   "metadata": {
    "papermill": {
     "duration": null,
     "end_time": null,
     "exception": null,
     "start_time": null,
     "status": "completed"
    },
    "tags": []
   },
   "outputs": [],
   "source": [
    "ml_transform_path = os.path.join(config.data_pro_path,\"ml_transform\", exp_name)"
   ]
  },
  {
   "cell_type": "code",
   "execution_count": null,
   "id": "8cdc68df",
   "metadata": {
    "papermill": {
     "duration": null,
     "end_time": null,
     "exception": null,
     "start_time": null,
     "status": "completed"
    },
    "tags": []
   },
   "outputs": [],
   "source": [
    "train_x_filename = \"train_data_stack_lonlatstandardized_lev_{}_{}.nc\".format(lev_index, kfold_index)\n",
    "valid_x_filename = \"valid_data_stack_lonlatstandardized_lev_{}_{}.nc\".format(lev_index, kfold_index)\n",
    "\n",
    "train_y_filename = \"train_data_amoc_depth_1020_lat_26_samplestandardized_{}_{}.nc\".format(lev_index, kfold_index)\n",
    "valid_y_filename = \"valid_data_amoc_depth_1020_lat_26_samplestandardized_{}_{}.nc\".format(lev_index, kfold_index)"
   ]
  },
  {
   "cell_type": "code",
   "execution_count": null,
   "id": "f2139854",
   "metadata": {
    "papermill": {
     "duration": null,
     "end_time": null,
     "exception": null,
     "start_time": null,
     "status": "completed"
    },
    "tags": []
   },
   "outputs": [],
   "source": [
    "model_name = \"linear_level_{}_kfold_{}\".format(lev_index, kfold_index)\n",
    "model_path = os.path.join(config.model_path,exp_name, datetime_string,model_name)\n",
    "\n",
    "model_plot_path = os.path.join(model_path, \"plots\")\n",
    "os.makedirs(model_plot_path, exist_ok=True)"
   ]
  },
  {
   "cell_type": "markdown",
   "id": "93ce2023",
   "metadata": {
    "papermill": {
     "duration": null,
     "end_time": null,
     "exception": null,
     "start_time": null,
     "status": "completed"
    },
    "tags": []
   },
   "source": [
    "# 3 Load Data"
   ]
  },
  {
   "cell_type": "code",
   "execution_count": null,
   "id": "b439fd4c",
   "metadata": {
    "papermill": {
     "duration": null,
     "end_time": null,
     "exception": null,
     "start_time": null,
     "status": "completed"
    },
    "tags": []
   },
   "outputs": [],
   "source": [
    "train_x_xr = xr.open_dataset(os.path.join(ml_transform_path, train_x_filename))\n",
    "valid_x_xr = xr.open_dataset(os.path.join(ml_transform_path, valid_x_filename))"
   ]
  },
  {
   "cell_type": "code",
   "execution_count": null,
   "id": "1552756f",
   "metadata": {
    "papermill": {
     "duration": null,
     "end_time": null,
     "exception": null,
     "start_time": null,
     "status": "completed"
    },
    "tags": []
   },
   "outputs": [],
   "source": [
    "train_y_xr = xr.open_dataset(os.path.join(ml_transform_path, train_y_filename))\n",
    "valid_y_xr = xr.open_dataset(os.path.join(ml_transform_path, valid_y_filename))"
   ]
  },
  {
   "cell_type": "code",
   "execution_count": null,
   "id": "c159d364",
   "metadata": {
    "papermill": {
     "duration": null,
     "end_time": null,
     "exception": null,
     "start_time": null,
     "status": "completed"
    },
    "tags": []
   },
   "outputs": [],
   "source": [
    "train_data_amoc_depth_1020_lat_26_samplestd  = xr.load_dataset(os.path.join(ml_transform_path,\"train_data_amoc_depth_1020_lat_26_samplestd.nc\" ))\n",
    "train_data_amoc_depth_1020_lat_26_samplemean = xr.load_dataset(os.path.join(ml_transform_path,\"train_data_amoc_depth_1020_lat_26_samplemean,nc\"))"
   ]
  },
  {
   "cell_type": "markdown",
   "id": "76729a31",
   "metadata": {
    "papermill": {
     "duration": null,
     "end_time": null,
     "exception": null,
     "start_time": null,
     "status": "completed"
    },
    "tags": []
   },
   "source": [
    "# 4 Processing"
   ]
  },
  {
   "cell_type": "code",
   "execution_count": null,
   "id": "b3aa14a0",
   "metadata": {
    "papermill": {
     "duration": null,
     "end_time": null,
     "exception": null,
     "start_time": null,
     "status": "completed"
    },
    "tags": []
   },
   "outputs": [],
   "source": [
    "train_x_xr_stack = train_x_xr.stack(sample=(\"realization\",\"time\")).stack(feature=(\"lon\",\"lat\"))\n",
    "valid_x_xr_stack = valid_x_xr.stack(sample=(\"realization\",\"time\")).stack(feature=(\"lon\",\"lat\"))\n",
    "\n",
    "feature_coords = train_x_xr_stack.feature\n",
    "sample_coords = train_x_xr_stack.sample\n",
    "\n",
    "train_x_xr_stack_dropna = train_x_xr_stack.dropna(dim=\"feature\")\n",
    "valid_x_xr_stack_dropna = valid_x_xr_stack.dropna(dim=\"feature\")\n",
    "\n",
    "feature_dropna_coords = train_x_xr_stack_dropna.feature"
   ]
  },
  {
   "cell_type": "code",
   "execution_count": null,
   "id": "aca5bd70",
   "metadata": {
    "papermill": {
     "duration": null,
     "end_time": null,
     "exception": null,
     "start_time": null,
     "status": "completed"
    },
    "tags": []
   },
   "outputs": [],
   "source": [
    "train_y_xr_stack = train_y_xr.stack(sample=(\"realization\",\"time\"))\n",
    "valid_y_xr_stack = valid_y_xr.stack(sample=(\"realization\",\"time\"))\n"
   ]
  },
  {
   "cell_type": "markdown",
   "id": "d6576851",
   "metadata": {
    "papermill": {
     "duration": null,
     "end_time": null,
     "exception": null,
     "start_time": null,
     "status": "completed"
    },
    "tags": []
   },
   "source": [
    "# 5 Model"
   ]
  },
  {
   "cell_type": "code",
   "execution_count": null,
   "id": "4d5a8be2",
   "metadata": {
    "papermill": {
     "duration": null,
     "end_time": null,
     "exception": null,
     "start_time": null,
     "status": "completed"
    },
    "tags": []
   },
   "outputs": [],
   "source": [
    "valid_sample_coords = valid_y_xr_stack.sample\n",
    "train_sample_coords = train_y_xr_stack.sample\n",
    "\n",
    "feature_drop_coords = train_x_xr_stack_dropna.feature\n",
    "feature_full_coords = train_x_xr_stack.feature \n",
    "\n",
    "train_x_ml_xr = train_x_xr_stack_dropna[\"rho\"]\n",
    "valid_x_ml_xr = valid_x_xr_stack_dropna[\"rho\"]\n",
    "\n",
    "train_y_ml_xr = train_y_xr_stack[\"atlantic_moc\"]\n",
    "valid_y_ml_xr = valid_y_xr_stack[\"atlantic_moc\"]\n",
    "\n",
    "train_y_true_ml_xr = train_y_xr_stack[\"atlantic_moc\"]\n",
    "valid_y_true_ml_xr = valid_y_xr_stack[\"atlantic_moc\"]\n"
   ]
  },
  {
   "cell_type": "code",
   "execution_count": null,
   "id": "b84e4362",
   "metadata": {
    "papermill": {
     "duration": null,
     "end_time": null,
     "exception": null,
     "start_time": null,
     "status": "completed"
    },
    "tags": []
   },
   "outputs": [],
   "source": [
    "def mse_xr(pred, true, sample_dim = \"sample\"):\n",
    "    return np.square(pred - true).mean(dim=sample_dim)"
   ]
  },
  {
   "cell_type": "markdown",
   "id": "763830bb",
   "metadata": {
    "papermill": {
     "duration": null,
     "end_time": null,
     "exception": null,
     "start_time": null,
     "status": "completed"
    },
    "tags": []
   },
   "source": [
    "## 5.1 Train"
   ]
  },
  {
   "cell_type": "code",
   "execution_count": null,
   "id": "43f2d835",
   "metadata": {
    "papermill": {
     "duration": null,
     "end_time": null,
     "exception": null,
     "start_time": null,
     "status": "completed"
    },
    "tags": []
   },
   "outputs": [],
   "source": [
    "alpha_list = np.logspace(-2,4, 100)"
   ]
  },
  {
   "cell_type": "code",
   "execution_count": null,
   "id": "83ee617a",
   "metadata": {
    "papermill": {
     "duration": null,
     "end_time": null,
     "exception": null,
     "start_time": null,
     "status": "completed"
    },
    "tags": []
   },
   "outputs": [],
   "source": [
    "train_mse_list = []\n",
    "valid_mse_list = []\n",
    "\n",
    "\n",
    "for i,alpha in tqdm(enumerate(alpha_list)): \n",
    "    \n",
    "    model = sklearn.linear_model.Ridge(alpha = alpha)\n",
    "    \n",
    "    model.fit(train_x_ml_xr, train_y_ml_xr)\n",
    "    \n",
    "    model_coef_ml_xr = xr.DataArray(model.coef_, dims = [\"feature\"], coords ={\"feature\":feature_drop_coords} )\n",
    "    model_coef_tmp,_ = xr.align(model_coef_ml_xr, feature_coords, join=\"outer\")\n",
    "\n",
    "    train_y_pred_ml_np = model.predict(train_x_ml_xr)\n",
    "    valid_y_pred_ml_np = model.predict(valid_x_ml_xr)\n",
    "\n",
    "    train_y_pred_ml_xr = xr.DataArray(train_y_pred_ml_np, dims= [\"sample\"], coords = {\"sample\": train_sample_coords, \"alpha\":alpha})\n",
    "    valid_y_pred_ml_xr = xr.DataArray(valid_y_pred_ml_np, dims= [\"sample\"], coords = {\"sample\": valid_sample_coords, \"alpha\":alpha})\n",
    "\n",
    "\n",
    "    train_mse_tmp = mse_xr(train_y_pred_ml_xr, train_y_true_ml_xr)\n",
    "    valid_mse_tmp = mse_xr(valid_y_pred_ml_xr, valid_y_true_ml_xr)\n",
    "    \n",
    "    model_name = \"model_{}.sav\".format(i)\n",
    "    model_file = os.path.join(model_path, model_name)\n",
    "    joblib.dump(model, model_file)\n",
    "    \n",
    "\n",
    "    if i == 0: \n",
    "        model_coef = model_coef_tmp.assign_coords({\"alpha\": alpha})\n",
    "        train_mse = train_mse_tmp.assign_coords({\"alpha\":alpha})\n",
    "        valid_mse = valid_mse_tmp.assign_coords({\"alpha\":alpha})\n",
    "        train_pred = train_y_pred_ml_xr.assign_coords({\"alpha\":alpha})\n",
    "        valid_pred = valid_y_pred_ml_xr.assign_coords({\"alpha\":alpha})\n",
    "\n",
    "    else:\n",
    "        model_coef = xr.concat([model_coef, model_coef_tmp.assign_coords({\"alpha\":alpha})], dim=\"alpha\")\n",
    "        train_mse = xr.concat([train_mse, train_mse_tmp.assign_coords({\"alpha\":alpha})], dim=\"alpha\")\n",
    "        valid_mse = xr.concat([valid_mse, valid_mse_tmp.assign_coords({\"alpha\":alpha})], dim=\"alpha\")\n",
    "        train_pred = xr.concat([train_pred, train_y_pred_ml_xr.assign_coords({\"alpha\":alpha})], dim=\"alpha\")\n",
    "        valid_pred = xr.concat([valid_pred, valid_y_pred_ml_xr.assign_coords({\"alpha\":alpha})], dim=\"alpha\")\n",
    "        \n",
    "\n",
    "    data = xr.merge([\n",
    "        model_coef.rename(\"coefficients\"),\n",
    "        train_mse.rename(\"train_mse\"), \n",
    "        valid_mse.rename(\"valid_mse\"),\n",
    "        valid_pred.rename(\"valid_pred\"),\n",
    "        train_pred.rename(\"train_pred\"),\n",
    "        ])\n"
   ]
  },
  {
   "cell_type": "markdown",
   "id": "9a4b34f0",
   "metadata": {
    "papermill": {
     "duration": null,
     "end_time": null,
     "exception": null,
     "start_time": null,
     "status": "completed"
    },
    "tags": []
   },
   "source": [
    "## 5.2  Evaluation"
   ]
  },
  {
   "cell_type": "code",
   "execution_count": null,
   "id": "790ab2a8",
   "metadata": {
    "papermill": {
     "duration": null,
     "end_time": null,
     "exception": null,
     "start_time": null,
     "status": "completed"
    },
    "tags": []
   },
   "outputs": [],
   "source": [
    "train_corr = xr.corr(train_y_true_ml_xr, data[\"train_pred\"], dim=\"sample\").rename(\"train_corr\")\n",
    "valid_corr = xr.corr(valid_y_true_ml_xr, data[\"valid_pred\"], dim=\"sample\").rename(\"valid_corr\")\n"
   ]
  },
  {
   "cell_type": "code",
   "execution_count": null,
   "id": "09c6bc79",
   "metadata": {
    "papermill": {
     "duration": null,
     "end_time": null,
     "exception": null,
     "start_time": null,
     "status": "completed"
    },
    "tags": []
   },
   "outputs": [],
   "source": [
    "diff = (data[\"train_mse\"] - data[\"valid_mse\"]).rename(\"diff_mse\")"
   ]
  },
  {
   "cell_type": "code",
   "execution_count": null,
   "id": "d558aafa",
   "metadata": {
    "papermill": {
     "duration": null,
     "end_time": null,
     "exception": null,
     "start_time": null,
     "status": "completed"
    },
    "tags": []
   },
   "outputs": [],
   "source": [
    "data = xr.merge([data, diff, train_corr, valid_corr])"
   ]
  },
  {
   "cell_type": "code",
   "execution_count": null,
   "id": "4a24497a",
   "metadata": {
    "papermill": {
     "duration": null,
     "end_time": null,
     "exception": null,
     "start_time": null,
     "status": "completed"
    },
    "tags": []
   },
   "outputs": [],
   "source": [
    "data.unstack().assign_coords({\"kfold_index\": kfold_index}).to_netcdf(os.path.join(model_path, \"data.nc\"))"
   ]
  },
  {
   "cell_type": "code",
   "execution_count": null,
   "id": "2a799fb2",
   "metadata": {
    "papermill": {
     "duration": null,
     "end_time": null,
     "exception": null,
     "start_time": null,
     "status": "completed"
    },
    "tags": []
   },
   "outputs": [],
   "source": [
    "alpha_min_diff = data.alpha.isel(alpha = (np.abs(diff).argmin()))\n",
    "alpha_min_val  = data.alpha.isel(alpha = data[\"valid_mse\"].argmin())\n",
    "alpha_min = data.alpha.min()\n",
    "alpha_max = data.alpha.max()\n"
   ]
  },
  {
   "cell_type": "code",
   "execution_count": null,
   "id": "1715544d",
   "metadata": {
    "papermill": {
     "duration": null,
     "end_time": null,
     "exception": null,
     "start_time": null,
     "status": "completed"
    },
    "tags": []
   },
   "outputs": [],
   "source": [
    "fig, ax = plt.subplots(figsize=(12,8))\n",
    "plt.plot(data.alpha, train_corr, color=\"black\", linestyle=\"dashed\", label=\"train cor\")\n",
    "plt.plot(data.alpha, valid_corr, color=\"red\", linestyle=\"dashed\", label=\"valid cor\")\n",
    "plt.plot(data.alpha, data[\"train_mse\"], color=\"black\", label=\"train mse\")\n",
    "plt.plot(data.alpha, data[\"valid_mse\"], color=\"red\",   label=\"valid_mse\")\n",
    "plt.plot(data.alpha, diff, color=\"blue\", label=\"train - valid mse\")\n",
    "plt.xscale(\"log\")\n",
    "\n",
    "plt.axhline(0, color=\"black\")\n",
    "plt.axvline(alpha_min_diff.values.item(), color=\"black\")\n",
    "plt.axvline(alpha_min_val.values.item(), color=\"black\")\n",
    "\n",
    "\n",
    "plt.legend()\n",
    "\n",
    "plt.ylim(-0.2,1)\n",
    "\n",
    "name = \"linear_exp_{}_lev_{}_date_{}_trainings\".format(exp_name, lev_index, datetime_string )\n",
    "plt.title(name)\n",
    "plt.savefig(os.path.join(model_plot_path, name))\n",
    "plt.xlabel(\"alpha\")\n",
    "plt.ylabel(\"Error\")\n",
    "\n"
   ]
  },
  {
   "cell_type": "code",
   "execution_count": null,
   "id": "8b289147",
   "metadata": {
    "papermill": {
     "duration": null,
     "end_time": null,
     "exception": null,
     "start_time": null,
     "status": "completed"
    },
    "tags": []
   },
   "outputs": [],
   "source": [
    "\n",
    "fig, ax = plt.subplots(figsize=(12,8))\n",
    "\n",
    "plt.xlim(-4,4)\n",
    "plt.ylim(-4,4)\n",
    "\n",
    "plt.scatter(data[\"train_pred\"].sel(alpha=alpha_min_diff).dropna(dim=\"sample\", how=\"all\"), train_y_true_ml_xr, color=\"black\")\n",
    "plt.scatter(data[\"valid_pred\"].sel(alpha=alpha_min_diff).dropna(dim=\"sample\", how=\"all\"), valid_y_true_ml_xr, color=\"red\")\n",
    "\n",
    "x = np.arange(-4,5)\n",
    "\n",
    "\n",
    "plt.plot(x,x, color=\"black\")\n",
    "plt.axhline(0)\n",
    "plt.axvline(0)\n",
    "\n",
    "plt.xlabel(\"prediction\")\n",
    "plt.ylabel(\"truth\")\n",
    "\n",
    "\n",
    "name = \"linear_exp_{}_lev_{}_date_{}_scatter\".format(exp_name, lev_index, datetime_string )\n",
    "plt.title(name)\n",
    "plt.savefig(os.path.join(model_plot_path, name))\n",
    "\n"
   ]
  },
  {
   "cell_type": "code",
   "execution_count": null,
   "id": "22c9b165",
   "metadata": {
    "papermill": {
     "duration": null,
     "end_time": null,
     "exception": null,
     "start_time": null,
     "status": "completed"
    },
    "tags": []
   },
   "outputs": [],
   "source": [
    "coefficients = data[\"coefficients\"].unstack()"
   ]
  },
  {
   "cell_type": "code",
   "execution_count": null,
   "id": "442b76c0",
   "metadata": {
    "papermill": {
     "duration": null,
     "end_time": null,
     "exception": null,
     "start_time": null,
     "status": "completed"
    },
    "tags": []
   },
   "outputs": [],
   "source": [
    "fig, ax  = plt.subplots(1,4,figsize=(25,10), subplot_kw = {\"projection\":ccrs.PlateCarree()})\n",
    "\n",
    "ax_ravel = np.ravel(ax)\n",
    "\n",
    "\n",
    "tmp = coefficients.sel(alpha=alpha_min, method=\"nearest\")\n",
    "vmax = np.abs(tmp).max()\n",
    "plot = ax[0].pcolormesh(coefficients.lon, coefficients.lat, tmp.transpose(\"lat\",\"lon\"), vmin=-vmax, vmax= vmax,cmap=\"RdBu_r\", transform=ccrs.PlateCarree())\n",
    "plt.colorbar(plot, ax = ax[0], orientation=\"horizontal\")\n",
    "\n",
    "\n",
    "tmp = coefficients.sel(alpha=alpha_min_val, method=\"nearest\")\n",
    "vmax = np.abs(tmp).max()\n",
    "plot = ax[1].pcolormesh(coefficients.lon, coefficients.lat, tmp.transpose(\"lat\",\"lon\"), vmin=-vmax, vmax=vmax, cmap=\"RdBu_r\", transform=ccrs.PlateCarree())\n",
    "plt.colorbar(plot, ax = ax[1], orientation=\"horizontal\")\n",
    "\n",
    "tmp = coefficients.sel(alpha=alpha_min_diff, method=\"nearest\")\n",
    "vmax = np.abs(tmp).max()\n",
    "plot = ax[2].pcolormesh(coefficients.lon, coefficients.lat, tmp.transpose(\"lat\",\"lon\"), vmin=-vmax, vmax=vmax, cmap=\"RdBu_r\", transform=ccrs.PlateCarree())\n",
    "plt.colorbar(plot, ax = ax[2], orientation=\"horizontal\")\n",
    "\n",
    "tmp = coefficients.sel(alpha=alpha_max, method=\"nearest\")\n",
    "vmax = np.abs(tmp).max()\n",
    "plot = ax[3].pcolormesh(coefficients.lon, coefficients.lat, tmp.transpose(\"lat\",\"lon\"), vmin=-vmax, vmax=vmax,cmap=\"RdBu_r\", transform=ccrs.PlateCarree())\n",
    "plt.colorbar(plot, ax = ax[3], orientation=\"horizontal\")\n",
    "\n",
    "\n",
    "ax[0].set_title(\"alpha_min\")\n",
    "ax[1].set_title(\"alpha_min_diff\")\n",
    "ax[2].set_title(\"alpha_min_val\")\n",
    "ax[3].set_title(\"alpha_max\")\n",
    "\n",
    "for i, ax in enumerate(ax_ravel):\n",
    "    ax.coastlines()\n",
    "    ax.gridlines(xlocs=[0], ylocs = [26.5], draw_labels=True, linewidth=0.5, color='k', alpha=0.5, linestyle='--')\n",
    "\n",
    "name = \"linear_exp_{}_lev_{}_date_{}_maps\".format(exp_name, lev_index, datetime_string )\n",
    "fig.suptitle(name)\n",
    "plt.savefig(os.path.join(model_plot_path, name))\n",
    "\n"
   ]
  },
  {
   "cell_type": "code",
   "execution_count": null,
   "id": "987695ba",
   "metadata": {
    "papermill": {
     "duration": null,
     "end_time": null,
     "exception": null,
     "start_time": null,
     "status": "completed"
    },
    "tags": []
   },
   "outputs": [],
   "source": [
    "data_valid_pred_year = data[\"valid_pred\"].unstack().assign_coords({\"time\":data[\"valid_pred\"].unstack().time.dt.year}).dropna(dim=\"time\", how=\"all\")\n",
    "data_train_pred_year = data[\"train_pred\"].unstack().assign_coords({\"time\":data[\"train_pred\"].unstack().time.dt.year}).dropna(dim=\"time\", how=\"all\")"
   ]
  },
  {
   "cell_type": "code",
   "execution_count": null,
   "id": "a8de8459",
   "metadata": {
    "papermill": {
     "duration": null,
     "end_time": null,
     "exception": null,
     "start_time": null,
     "status": "completed"
    },
    "tags": []
   },
   "outputs": [],
   "source": [
    "data_valid_true_year = valid_y_true_ml_xr.unstack().assign_coords({\"time\":valid_y_true_ml_xr.unstack().time.dt.year})\n",
    "data_train_true_year = train_y_true_ml_xr.unstack().assign_coords({\"time\":train_y_true_ml_xr.unstack().time.dt.year})"
   ]
  },
  {
   "cell_type": "code",
   "execution_count": null,
   "id": "047fdd07",
   "metadata": {
    "papermill": {
     "duration": null,
     "end_time": null,
     "exception": null,
     "start_time": null,
     "status": "completed"
    },
    "tags": []
   },
   "outputs": [],
   "source": [
    "valid_pred_polyfit = data_valid_pred_year.polyfit(deg=1, dim=\"time\")\n",
    "train_pred_polyfit = data_train_pred_year.polyfit(deg=1, dim=\"time\")\n",
    "\n",
    "valid_true_polyfit = data_valid_true_year.polyfit(deg=1, dim=\"time\")\n",
    "train_true_polyfit = data_train_true_year.polyfit(deg=1, dim=\"time\")"
   ]
  },
  {
   "cell_type": "code",
   "execution_count": null,
   "id": "bb829c0f",
   "metadata": {
    "papermill": {
     "duration": null,
     "end_time": null,
     "exception": null,
     "start_time": null,
     "status": "completed"
    },
    "tags": []
   },
   "outputs": [],
   "source": [
    "plt.scatter(train_pred_polyfit[\"polyfit_coefficients\"].isel(degree=0).sel(alpha=alpha_min_val), train_true_polyfit[\"polyfit_coefficients\"].isel(degree=0), color=\"black\", label=\"train\")\n",
    "plt.scatter(valid_pred_polyfit[\"polyfit_coefficients\"].isel(degree=0).sel(alpha=alpha_min_val), valid_true_polyfit[\"polyfit_coefficients\"].isel(degree=0), color=\"red\", label=\"valid\")\n",
    "\n",
    "\n",
    "plt.xlim(-0.2,0.2)\n",
    "plt.ylim(-0.2,0.2)\n",
    "\n",
    "x = np.arange(-2,2)\n",
    "\n",
    "plt.plot(x,x, color=\"black\")\n",
    "\n",
    "\n",
    "plt.xlabel(\"pred trend in Sv/year\")\n",
    "plt.ylabel(\"true trend in Sv/year\")\n",
    "\n",
    "plt.legend()\n",
    "name = \"linear_exp_{}_lev_{}_date_{}_trends\".format(exp_name, lev_index, datetime_string )\n",
    "plt.title(name)\n",
    "plt.savefig(os.path.join(model_plot_path, name))\n",
    "\n"
   ]
  },
  {
   "cell_type": "code",
   "execution_count": null,
   "id": "918f714f",
   "metadata": {
    "papermill": {
     "duration": null,
     "end_time": null,
     "exception": null,
     "start_time": null,
     "status": "completed"
    },
    "tags": []
   },
   "outputs": [],
   "source": []
  }
 ],
 "metadata": {
  "kernelspec": {
   "display_name": "CNN",
   "language": "python",
   "name": "cnn"
  },
  "language_info": {
   "codemirror_mode": {
    "name": "ipython",
    "version": 3
   },
   "file_extension": ".py",
   "mimetype": "text/x-python",
   "name": "python",
   "nbconvert_exporter": "python",
   "pygments_lexer": "ipython3",
   "version": "3.8.16"
  },
  "papermill": {
   "default_parameters": {},
   "duration": 70.40025,
   "end_time": "2023-02-20T15:57:23.916680",
   "environment_variables": {},
   "exception": null,
   "input_path": "cv_linear_model.ipynb",
   "output_path": "./linear_models/20_02_2023_16_42_50/cv_linear_model_lev_0_kfold_2.ipynb",
   "parameters": {
    "datetime_string": "20_02_2023_16_42_50",
    "kfold_index": "2",
    "lev_index": "0"
   },
   "start_time": "2023-02-20T15:56:13.516430",
   "version": "2.3.4"
  },
  "vscode": {
   "interpreter": {
    "hash": "689bb7d798796eef3aabe566407408febfc13e8fa7d5340267927d1031bb8546"
   }
  }
 },
 "nbformat": 4,
 "nbformat_minor": 5
}
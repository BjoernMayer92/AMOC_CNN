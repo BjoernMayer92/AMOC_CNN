{
 "cells": [
  {
   "cell_type": "markdown",
   "id": "235668fd",
   "metadata": {
    "papermill": {},
    "tags": []
   },
   "source": [
    "# 1 Import Packages"
   ]
  },
  {
   "cell_type": "code",
   "execution_count": null,
   "id": "01011937",
   "metadata": {
    "papermill": {},
    "tags": []
   },
   "outputs": [],
   "source": [
    "import xarray as xr\n",
    "import numpy as np\n",
    "import os\n",
    "import datetime\n",
    "\n",
    "\n",
    "import src.config as config\n",
    "import src.utils as utils\n",
    "\n",
    "import math\n",
    "from tqdm import tqdm\n",
    "\n",
    "import innvestigate\n",
    "import matplotlib.pyplot as plt\n",
    "import cartopy.crs as ccrs\n",
    "import tensorflow as tf\n",
    "tf.compat.v1.disable_eager_execution()\n"
   ]
  },
  {
   "cell_type": "markdown",
   "id": "b0e7f844",
   "metadata": {
    "papermill": {},
    "tags": []
   },
   "source": [
    "# 2 Metadata"
   ]
  },
  {
   "cell_type": "code",
   "execution_count": null,
   "id": "6164cdc2",
   "metadata": {
    "papermill": {},
    "tags": [
     "parameters"
    ]
   },
   "outputs": [],
   "source": [
    "lev_index   = 0\n",
    "kfold_index = 0\n",
    "exp_name    = \"cv\"\n",
    "datetime_string = datetime.datetime.now().strftime(\"%d_%m_%Y_%H_%M_%S\")\n"
   ]
  },
  {
   "cell_type": "code",
   "execution_count": null,
   "id": "258d34da",
   "metadata": {
    "tags": [
     "injected-parameters"
    ]
   },
   "outputs": [],
   "source": [
    "# Parameters\n",
    "lev_index = \"23\"\n",
    "kfold_index = \"5\"\n",
    "datetime_string = \"22_02_2023_16_24_23\"\n"
   ]
  },
  {
   "cell_type": "code",
   "execution_count": null,
   "id": "c4f5b1ef",
   "metadata": {
    "papermill": {},
    "tags": []
   },
   "outputs": [],
   "source": [
    "model_name = \"conv_level_{}_kfold_{}_date_{}\".format(lev_index, kfold_index, datetime_string)\n",
    "model_path = os.path.join(config.model_path, exp_name, datetime_string,  model_name)\n",
    "os.makedirs(model_path, exist_ok=True)"
   ]
  },
  {
   "cell_type": "code",
   "execution_count": null,
   "id": "316afa08",
   "metadata": {
    "papermill": {},
    "tags": []
   },
   "outputs": [],
   "source": [
    "ml_transform_path = os.path.join(config.data_pro_path,\"ml_transform\", exp_name)"
   ]
  },
  {
   "cell_type": "code",
   "execution_count": null,
   "id": "8620e7b8",
   "metadata": {
    "papermill": {},
    "tags": []
   },
   "outputs": [],
   "source": [
    "train_x_filename = \"train_data_stack_lonlatstandardized_lev_{}_{}.nc\".format(lev_index, kfold_index)\n",
    "valid_x_filename = \"valid_data_stack_lonlatstandardized_lev_{}_{}.nc\".format(lev_index, kfold_index)\n",
    "\n",
    "train_y_filename = \"train_data_amoc_depth_1020_lat_26_samplestandardized_{}_{}.nc\".format(lev_index, kfold_index)\n",
    "valid_y_filename = \"valid_data_amoc_depth_1020_lat_26_samplestandardized_{}_{}.nc\".format(lev_index, kfold_index)"
   ]
  },
  {
   "cell_type": "markdown",
   "id": "0c893b28",
   "metadata": {
    "papermill": {},
    "tags": []
   },
   "source": [
    "# 3 Load Data"
   ]
  },
  {
   "cell_type": "code",
   "execution_count": null,
   "id": "2d5fc632",
   "metadata": {
    "papermill": {},
    "tags": []
   },
   "outputs": [],
   "source": [
    "train_x_xr = xr.open_dataset(os.path.join(ml_transform_path, train_x_filename))\n",
    "valid_x_xr = xr.open_dataset(os.path.join(ml_transform_path, valid_x_filename))"
   ]
  },
  {
   "cell_type": "code",
   "execution_count": null,
   "id": "f62f6165",
   "metadata": {
    "papermill": {},
    "tags": []
   },
   "outputs": [],
   "source": [
    "train_y_xr = xr.open_dataset(os.path.join(ml_transform_path, train_y_filename))\n",
    "valid_y_xr = xr.open_dataset(os.path.join(ml_transform_path, valid_y_filename))"
   ]
  },
  {
   "cell_type": "code",
   "execution_count": null,
   "id": "15d69a89",
   "metadata": {
    "papermill": {},
    "tags": []
   },
   "outputs": [],
   "source": [
    "train_data_amoc_depth_1020_lat_26_samplestd  = xr.load_dataset(os.path.join(ml_transform_path, train_y_filename ))\n",
    "train_data_amoc_depth_1020_lat_26_samplemean = xr.load_dataset(os.path.join(ml_transform_path, valid_y_filename))"
   ]
  },
  {
   "cell_type": "markdown",
   "id": "dcca334e",
   "metadata": {
    "papermill": {},
    "tags": []
   },
   "source": [
    "# 4 Processing"
   ]
  },
  {
   "cell_type": "code",
   "execution_count": null,
   "id": "7f92bfc7",
   "metadata": {
    "papermill": {},
    "tags": []
   },
   "outputs": [],
   "source": [
    "train_x_xr_stack = train_x_xr.stack(sample=(\"realization\",\"time\"))\n",
    "valid_x_xr_stack = valid_x_xr.stack(sample=(\"realization\",\"time\"))"
   ]
  },
  {
   "cell_type": "code",
   "execution_count": null,
   "id": "57838d09",
   "metadata": {
    "papermill": {},
    "tags": []
   },
   "outputs": [],
   "source": [
    "train_y_xr_stack = train_y_xr.stack(sample=(\"realization\",\"time\"))\n",
    "valid_y_xr_stack = valid_y_xr.stack(sample=(\"realization\",\"time\"))\n"
   ]
  },
  {
   "cell_type": "code",
   "execution_count": null,
   "id": "f4a76544",
   "metadata": {
    "papermill": {},
    "tags": []
   },
   "outputs": [],
   "source": [
    "valid_sample_coords = valid_y_xr_stack.sample\n",
    "train_sample_coords = train_y_xr_stack.sample\n",
    "\n",
    "train_x_ml_np = np.nan_to_num(np.expand_dims(train_x_xr_stack[\"rho\"].transpose(\"sample\",...).values,3),0)\n",
    "valid_x_ml_np = np.nan_to_num(np.expand_dims(valid_x_xr_stack[\"rho\"].transpose(\"sample\",...).values,3),0)\n",
    "\n",
    "train_y_ml_np = train_y_xr_stack[\"atlantic_moc\"].values\n",
    "valid_y_ml_np = valid_y_xr_stack[\"atlantic_moc\"].values"
   ]
  },
  {
   "cell_type": "code",
   "execution_count": null,
   "id": "9519d467",
   "metadata": {
    "papermill": {},
    "tags": []
   },
   "outputs": [],
   "source": [
    "train_data_amoc_depth_1020_lat_26_samplestd  = xr.load_dataset(os.path.join(ml_transform_path,\"train_data_amoc_depth_1020_lat_26_samplestd.nc\" ))\n",
    "train_data_amoc_depth_1020_lat_26_samplemean = xr.load_dataset(os.path.join(ml_transform_path,\"train_data_amoc_depth_1020_lat_26_samplemean,nc\"))"
   ]
  },
  {
   "cell_type": "code",
   "execution_count": null,
   "id": "b0d29eb6",
   "metadata": {
    "papermill": {},
    "tags": []
   },
   "outputs": [],
   "source": [
    "lon = train_x_xr_stack.lon\n",
    "lat = train_x_xr_stack.lat"
   ]
  },
  {
   "cell_type": "markdown",
   "id": "19134bd8",
   "metadata": {
    "papermill": {},
    "tags": []
   },
   "source": [
    "# 5 Model"
   ]
  },
  {
   "cell_type": "code",
   "execution_count": null,
   "id": "a02bfb38",
   "metadata": {
    "papermill": {},
    "tags": []
   },
   "outputs": [],
   "source": [
    "model = tf.keras.models.Sequential()\n",
    "\n",
    "model.add(tf.keras.layers.Conv2D(30,(3,3), activation=\"relu\", padding=\"same\",input_shape=(120,121,1)))\n",
    "#model.add(tf.keras.layers.BatchNormalization())\n",
    "model.add(tf.keras.layers.MaxPooling2D(pool_size=(2,2)))\n",
    "\n",
    "model.add(tf.keras.layers.Conv2D(30,(3,3), activation=\"relu\", padding=\"same\", input_shape=(60,60,8)))\n",
    "#model.add(tf.keras.layers.BatchNormalization())\n",
    "model.add(tf.keras.layers.MaxPooling2D(pool_size=(2,2)))\n",
    "\n",
    "model.add(tf.keras.layers.Conv2D(30,(3,3), activation=\"relu\", padding=\"same\", input_shape=(30,30,32)))\n",
    "#model.add(tf.keras.layers.BatchNormalization())\n",
    "model.add(tf.keras.layers.Flatten())\n",
    "\n",
    "#model.add(tf.keras.layers.Dropout(0.2))\n",
    "model.add(tf.keras.layers.Dense(50, activation=\"relu\"))\n",
    "#model.add(tf.keras.layers.BatchNormalization())\n",
    "\n",
    "#model.add(tf.keras.layers.Dropout(0.2))\n",
    "#model.add(tf.keras.layers.Dense(50, activation=\"relu\"))\n",
    "#model.add(tf.keras.layers.BatchNormalization())\n",
    "\n",
    "model.add(tf.keras.layers.Dense(1, activation=\"linear\"))"
   ]
  },
  {
   "cell_type": "code",
   "execution_count": null,
   "id": "95dcad5d",
   "metadata": {
    "papermill": {},
    "tags": []
   },
   "outputs": [],
   "source": [
    "model.build()\n",
    "model.summary()"
   ]
  },
  {
   "cell_type": "code",
   "execution_count": null,
   "id": "552e92b2",
   "metadata": {
    "papermill": {},
    "tags": []
   },
   "outputs": [],
   "source": [
    "model_file_template = os.path.join(model_path, \"saved-model-{epoch:02d}.hdf5\")\n",
    "checkpoint = tf.keras.callbacks.ModelCheckpoint(model_file_template, monitor='val_mse', verbose=1, save_best_only=False, mode='max')"
   ]
  },
  {
   "cell_type": "code",
   "execution_count": null,
   "id": "930e3199",
   "metadata": {
    "papermill": {},
    "tags": []
   },
   "outputs": [],
   "source": [
    "from tensorflow.keras.callbacks import Callback\n",
    "\n",
    "class TrainValMSEDiff(Callback):\n",
    "    \n",
    "    def on_epoch_end(self, epoch, logs={}):\n",
    "        train_mse = model.evaluate(train_x_ml_np, train_y_ml_np)\n",
    "        valid_mse = model.evaluate(valid_x_ml_np, valid_y_ml_np)\n",
    "        diff_mse  = train_mse - valid_mse\n",
    "        \n",
    "        logs[\"train_mse_epoch_end\"] = train_mse\n",
    "        logs[\"valid_mse_epoch_end\"] = valid_mse\n",
    "        logs[\"diff_mse_epoch_end\"] = diff_mse\n",
    "        print(f'Epoch {epoch+1} - train_mse: {train_mse:.4f} - val_mse: {valid_mse:.4f} - diff: {diff_mse:.4f}')\n"
   ]
  },
  {
   "cell_type": "code",
   "execution_count": null,
   "id": "d5ffb373",
   "metadata": {
    "papermill": {},
    "tags": []
   },
   "outputs": [],
   "source": [
    "csv_logger = tf.keras.callbacks.CSVLogger(os.path.join(model_path, \"history.csv\"))"
   ]
  },
  {
   "cell_type": "code",
   "execution_count": null,
   "id": "b4f19c00",
   "metadata": {
    "papermill": {},
    "tags": []
   },
   "outputs": [],
   "source": [
    "logdir = os.path.join(\"logs\", model_name)\n",
    "tensorboard_callback = tf.keras.callbacks.TensorBoard(log_dir = os.path.join(model_path,logdir))"
   ]
  },
  {
   "cell_type": "markdown",
   "id": "00ba7a85",
   "metadata": {
    "papermill": {},
    "tags": []
   },
   "source": [
    "# Train Model"
   ]
  },
  {
   "cell_type": "code",
   "execution_count": null,
   "id": "0a697679",
   "metadata": {
    "papermill": {},
    "tags": []
   },
   "outputs": [],
   "source": [
    "opt = tf.keras.optimizers.Adam(learning_rate = 0.0001)\n",
    "model.compile(optimizer = opt, loss=tf.keras.losses.mse)"
   ]
  },
  {
   "cell_type": "code",
   "execution_count": null,
   "id": "1aad23e1",
   "metadata": {
    "papermill": {},
    "tags": []
   },
   "outputs": [],
   "source": [
    "model.fit(x=train_x_ml_np, y=train_y_ml_np, batch_size=64, epochs=200, validation_data=(valid_x_ml_np, valid_y_ml_np), callbacks = [TrainValMSEDiff(), checkpoint, csv_logger, tensorboard_callback])\n"
   ]
  }
 ],
 "metadata": {
  "kernelspec": {
   "display_name": "CNN",
   "language": "python",
   "name": "cnn"
  },
  "language_info": {
   "codemirror_mode": {
    "name": "ipython",
    "version": 3
   },
   "file_extension": ".py",
   "mimetype": "text/x-python",
   "name": "python",
   "nbconvert_exporter": "python",
   "pygments_lexer": "ipython3",
   "version": "3.8.16"
  },
  "papermill": {
   "default_parameters": {},
   "environment_variables": {},
   "input_path": "cv_conv_model.ipynb",
   "output_path": "./conv_models/22_02_2023_16_24_23/cv_conv_model_lev_23_kfold_5.ipynb",
   "parameters": {
    "datetime_string": "22_02_2023_16_24_23",
    "kfold_index": "5",
    "lev_index": "23"
   },
   "version": "2.3.4"
  },
  "vscode": {
   "interpreter": {
    "hash": "689bb7d798796eef3aabe566407408febfc13e8fa7d5340267927d1031bb8546"
   }
  }
 },
 "nbformat": 4,
 "nbformat_minor": 5
}
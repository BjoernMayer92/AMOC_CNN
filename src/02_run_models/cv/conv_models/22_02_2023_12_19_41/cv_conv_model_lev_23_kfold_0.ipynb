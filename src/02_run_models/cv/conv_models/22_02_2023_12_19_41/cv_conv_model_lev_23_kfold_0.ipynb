{
 "cells": [
  {
   "cell_type": "markdown",
   "id": "dfef2a1d",
   "metadata": {
    "papermill": {},
    "tags": []
   },
   "source": [
    "# 1 Import Packages"
   ]
  },
  {
   "cell_type": "code",
   "execution_count": 1,
   "id": "7676a589",
   "metadata": {
    "papermill": {},
    "tags": []
   },
   "outputs": [
    {
     "name": "stderr",
     "output_type": "stream",
     "text": [
      "2023-02-22 11:43:05.330150: I tensorflow/core/platform/cpu_feature_guard.cc:193] This TensorFlow binary is optimized with oneAPI Deep Neural Network Library (oneDNN) to use the following CPU instructions in performance-critical operations:  SSE4.1 SSE4.2 AVX AVX2 FMA\n",
      "To enable them in other operations, rebuild TensorFlow with the appropriate compiler flags.\n"
     ]
    }
   ],
   "source": [
    "import xarray as xr\n",
    "import numpy as np\n",
    "import os\n",
    "import datetime\n",
    "\n",
    "\n",
    "import src.config as config\n",
    "import src.utils as utils\n",
    "\n",
    "import math\n",
    "from tqdm import tqdm\n",
    "\n",
    "import innvestigate\n",
    "import matplotlib.pyplot as plt\n",
    "import cartopy.crs as ccrs\n",
    "import tensorflow as tf\n",
    "tf.compat.v1.disable_eager_execution()\n"
   ]
  },
  {
   "cell_type": "markdown",
   "id": "b543e9e1",
   "metadata": {
    "papermill": {},
    "tags": []
   },
   "source": [
    "# 2 Metadata"
   ]
  },
  {
   "cell_type": "code",
   "execution_count": 2,
   "id": "b61db420",
   "metadata": {
    "papermill": {},
    "tags": [
     "parameters"
    ]
   },
   "outputs": [],
   "source": [
    "lev_index   = 0\n",
    "kfold_index = 0\n",
    "exp_name    = \"cv\"\n",
    "datetime_string = datetime.datetime.now().strftime(\"%d_%m_%Y_%H_%M_%S\")\n"
   ]
  },
  {
   "cell_type": "code",
   "execution_count": null,
   "id": "05bc1552",
   "metadata": {
    "tags": [
     "injected-parameters"
    ]
   },
   "outputs": [],
   "source": [
    "# Parameters\n",
    "lev_index = \"23\"\n",
    "kfold_index = \"0\"\n",
    "datetime_string = \"22_02_2023_12_19_41\"\n"
   ]
  },
  {
   "cell_type": "code",
   "execution_count": 3,
   "id": "ceb59a5d",
   "metadata": {
    "papermill": {},
    "tags": []
   },
   "outputs": [],
   "source": [
    "model_name = \"conv_level_{}_kfold_{}_date_{}\".format(lev_index, kfold_index, datetime_string)\n",
    "model_path = os.path.join(config.model_path, exp_name, datetime_string,  model_name)\n",
    "os.makedirs(model_path, exist_ok=True)"
   ]
  },
  {
   "cell_type": "code",
   "execution_count": 4,
   "id": "273aa903",
   "metadata": {
    "papermill": {},
    "tags": []
   },
   "outputs": [],
   "source": [
    "ml_transform_path = os.path.join(config.data_pro_path,\"ml_transform\", exp_name)"
   ]
  },
  {
   "cell_type": "code",
   "execution_count": 5,
   "id": "a23886ae",
   "metadata": {
    "papermill": {},
    "tags": []
   },
   "outputs": [],
   "source": [
    "train_x_filename = \"train_data_stack_lonlatstandardized_lev_{}_{}.nc\".format(lev_index, kfold_index)\n",
    "valid_x_filename = \"valid_data_stack_lonlatstandardized_lev_{}_{}.nc\".format(lev_index, kfold_index)\n",
    "\n",
    "train_y_filename = \"train_data_amoc_depth_1020_lat_26_samplestandardized_{}_{}.nc\".format(lev_index, kfold_index)\n",
    "valid_y_filename = \"valid_data_amoc_depth_1020_lat_26_samplestandardized_{}_{}.nc\".format(lev_index, kfold_index)"
   ]
  },
  {
   "cell_type": "markdown",
   "id": "84bdffc7",
   "metadata": {
    "papermill": {},
    "tags": []
   },
   "source": [
    "# 3 Load Data"
   ]
  },
  {
   "cell_type": "code",
   "execution_count": 6,
   "id": "87e6b6b6",
   "metadata": {
    "papermill": {},
    "tags": []
   },
   "outputs": [],
   "source": [
    "train_x_xr = xr.open_dataset(os.path.join(ml_transform_path, train_x_filename))\n",
    "valid_x_xr = xr.open_dataset(os.path.join(ml_transform_path, valid_x_filename))"
   ]
  },
  {
   "cell_type": "code",
   "execution_count": 7,
   "id": "cfb453a2",
   "metadata": {
    "papermill": {},
    "tags": []
   },
   "outputs": [],
   "source": [
    "train_y_xr = xr.open_dataset(os.path.join(ml_transform_path, train_y_filename))\n",
    "valid_y_xr = xr.open_dataset(os.path.join(ml_transform_path, valid_y_filename))"
   ]
  },
  {
   "cell_type": "code",
   "execution_count": 8,
   "id": "0b2ffcd2",
   "metadata": {
    "papermill": {},
    "tags": []
   },
   "outputs": [],
   "source": [
    "train_data_amoc_depth_1020_lat_26_samplestd  = xr.load_dataset(os.path.join(ml_transform_path, train_y_filename ))\n",
    "train_data_amoc_depth_1020_lat_26_samplemean = xr.load_dataset(os.path.join(ml_transform_path, valid_y_filename))"
   ]
  },
  {
   "cell_type": "markdown",
   "id": "15b48e09",
   "metadata": {
    "papermill": {},
    "tags": []
   },
   "source": [
    "# 4 Processing"
   ]
  },
  {
   "cell_type": "code",
   "execution_count": 9,
   "id": "94d49fe3",
   "metadata": {
    "papermill": {},
    "tags": []
   },
   "outputs": [],
   "source": [
    "train_x_xr_stack = train_x_xr.stack(sample=(\"realization\",\"time\"))\n",
    "valid_x_xr_stack = valid_x_xr.stack(sample=(\"realization\",\"time\"))"
   ]
  },
  {
   "cell_type": "code",
   "execution_count": 10,
   "id": "6da04079",
   "metadata": {
    "papermill": {},
    "tags": []
   },
   "outputs": [],
   "source": [
    "train_y_xr_stack = train_y_xr.stack(sample=(\"realization\",\"time\"))\n",
    "valid_y_xr_stack = valid_y_xr.stack(sample=(\"realization\",\"time\"))\n"
   ]
  },
  {
   "cell_type": "code",
   "execution_count": 11,
   "id": "9945b49a",
   "metadata": {
    "papermill": {},
    "tags": []
   },
   "outputs": [],
   "source": [
    "valid_sample_coords = valid_y_xr_stack.sample\n",
    "train_sample_coords = train_y_xr_stack.sample\n",
    "\n",
    "train_x_ml_np = np.nan_to_num(np.expand_dims(train_x_xr_stack[\"rho\"].transpose(\"sample\",...).values,3),0)\n",
    "valid_x_ml_np = np.nan_to_num(np.expand_dims(valid_x_xr_stack[\"rho\"].transpose(\"sample\",...).values,3),0)\n",
    "\n",
    "train_y_ml_np = train_y_xr_stack[\"atlantic_moc\"].values\n",
    "valid_y_ml_np = valid_y_xr_stack[\"atlantic_moc\"].values"
   ]
  },
  {
   "cell_type": "code",
   "execution_count": 12,
   "id": "a3ad3f5f",
   "metadata": {
    "papermill": {},
    "tags": []
   },
   "outputs": [],
   "source": [
    "train_data_amoc_depth_1020_lat_26_samplestd  = xr.load_dataset(os.path.join(ml_transform_path,\"train_data_amoc_depth_1020_lat_26_samplestd.nc\" ))\n",
    "train_data_amoc_depth_1020_lat_26_samplemean = xr.load_dataset(os.path.join(ml_transform_path,\"train_data_amoc_depth_1020_lat_26_samplemean,nc\"))"
   ]
  },
  {
   "cell_type": "code",
   "execution_count": 13,
   "id": "a4c59931",
   "metadata": {
    "papermill": {},
    "tags": []
   },
   "outputs": [],
   "source": [
    "lon = train_x_xr_stack.lon\n",
    "lat = train_x_xr_stack.lat"
   ]
  },
  {
   "cell_type": "markdown",
   "id": "36b27274",
   "metadata": {
    "papermill": {},
    "tags": []
   },
   "source": [
    "# 5 Model"
   ]
  },
  {
   "cell_type": "code",
   "execution_count": 14,
   "id": "f2a1100b",
   "metadata": {
    "papermill": {},
    "tags": []
   },
   "outputs": [],
   "source": [
    "model = tf.keras.models.Sequential()\n",
    "\n",
    "model.add(tf.keras.layers.Conv2D(30,(3,3), activation=\"relu\", padding=\"same\",input_shape=(120,121,1)))\n",
    "#model.add(tf.keras.layers.BatchNormalization())\n",
    "model.add(tf.keras.layers.MaxPooling2D(pool_size=(2,2)))\n",
    "\n",
    "model.add(tf.keras.layers.Conv2D(30,(3,3), activation=\"relu\", padding=\"same\", input_shape=(60,60,8)))\n",
    "#model.add(tf.keras.layers.BatchNormalization())\n",
    "model.add(tf.keras.layers.MaxPooling2D(pool_size=(2,2)))\n",
    "\n",
    "model.add(tf.keras.layers.Conv2D(30,(3,3), activation=\"relu\", padding=\"same\", input_shape=(30,30,32)))\n",
    "#model.add(tf.keras.layers.BatchNormalization())\n",
    "model.add(tf.keras.layers.Flatten())\n",
    "\n",
    "model.add(tf.keras.layers.Dropout(0.2))\n",
    "model.add(tf.keras.layers.Dense(50, activation=\"relu\"))\n",
    "#model.add(tf.keras.layers.BatchNormalization())\n",
    "\n",
    "model.add(tf.keras.layers.Dropout(0.2))\n",
    "model.add(tf.keras.layers.Dense(50, activation=\"relu\"))\n",
    "#model.add(tf.keras.layers.BatchNormalization())\n",
    "\n",
    "model.add(tf.keras.layers.Dense(1, activation=\"linear\"))"
   ]
  },
  {
   "cell_type": "code",
   "execution_count": 15,
   "id": "58f12808",
   "metadata": {
    "papermill": {},
    "tags": []
   },
   "outputs": [
    {
     "name": "stdout",
     "output_type": "stream",
     "text": [
      "Model: \"sequential\"\n",
      "_________________________________________________________________\n",
      " Layer (type)                Output Shape              Param #   \n",
      "=================================================================\n",
      " conv2d (Conv2D)             (None, 120, 121, 30)      300       \n",
      "                                                                 \n",
      " max_pooling2d (MaxPooling2D  (None, 60, 60, 30)       0         \n",
      " )                                                               \n",
      "                                                                 \n",
      " conv2d_1 (Conv2D)           (None, 60, 60, 30)        8130      \n",
      "                                                                 \n",
      " max_pooling2d_1 (MaxPooling  (None, 30, 30, 30)       0         \n",
      " 2D)                                                             \n",
      "                                                                 \n",
      " conv2d_2 (Conv2D)           (None, 30, 30, 30)        8130      \n",
      "                                                                 \n",
      " flatten (Flatten)           (None, 27000)             0         \n",
      "                                                                 \n",
      " dropout (Dropout)           (None, 27000)             0         \n",
      "                                                                 \n",
      " dense (Dense)               (None, 50)                1350050   \n",
      "                                                                 \n",
      " dropout_1 (Dropout)         (None, 50)                0         \n",
      "                                                                 \n",
      " dense_1 (Dense)             (None, 50)                2550      \n",
      "                                                                 \n",
      " dense_2 (Dense)             (None, 1)                 51        \n",
      "                                                                 \n",
      "=================================================================\n",
      "Total params: 1,369,211\n",
      "Trainable params: 1,369,211\n",
      "Non-trainable params: 0\n",
      "_________________________________________________________________\n"
     ]
    }
   ],
   "source": [
    "model.build()\n",
    "model.summary()"
   ]
  },
  {
   "cell_type": "code",
   "execution_count": 16,
   "id": "adfbf137",
   "metadata": {
    "papermill": {},
    "tags": []
   },
   "outputs": [],
   "source": [
    "model_file_template = os.path.join(model_path, \"saved-model-{epoch:02d}.hdf5\")\n",
    "checkpoint = tf.keras.callbacks.ModelCheckpoint(model_file_template, monitor='val_mse', verbose=1, save_best_only=False, mode='max')"
   ]
  },
  {
   "cell_type": "code",
   "execution_count": 17,
   "id": "d1160889",
   "metadata": {
    "papermill": {},
    "tags": []
   },
   "outputs": [],
   "source": [
    "from tensorflow.keras.callbacks import Callback\n",
    "\n",
    "class TrainValMSEDiff(Callback):\n",
    "    \n",
    "    def on_epoch_end(self, epoch, logs={}):\n",
    "        train_mse = model.evaluate(train_x_ml_np, train_y_ml_np)\n",
    "        valid_mse = model.evaluate(valid_x_ml_np, valid_y_ml_np)\n",
    "        diff_mse  = train_mse - valid_mse\n",
    "        \n",
    "        logs[\"train_mse_epoch_end\"] = train_mse\n",
    "        logs[\"valid_mse_epoch_end\"] = valid_mse\n",
    "        logs[\"diff_mse_epoch_end\"] = diff_mse\n",
    "        print(f'Epoch {epoch+1} - train_mse: {train_mse:.4f} - val_mse: {valid_mse:.4f} - diff: {diff_mse:.4f}')\n"
   ]
  },
  {
   "cell_type": "code",
   "execution_count": 18,
   "id": "722c8c5a",
   "metadata": {
    "papermill": {},
    "tags": []
   },
   "outputs": [],
   "source": [
    "csv_logger = tf.keras.callbacks.CSVLogger(os.path.join(model_path, \"history.csv\"))"
   ]
  },
  {
   "cell_type": "code",
   "execution_count": 23,
   "id": "51d591f3",
   "metadata": {
    "papermill": {},
    "tags": []
   },
   "outputs": [
    {
     "data": {
      "text/plain": [
       "'conv_level_0_kfold_0_date_22_02_2023_11_43_17'"
      ]
     },
     "execution_count": 23,
     "metadata": {},
     "output_type": "execute_result"
    }
   ],
   "source": [
    "model_name"
   ]
  },
  {
   "cell_type": "code",
   "execution_count": 24,
   "id": "0b859e41",
   "metadata": {
    "papermill": {},
    "tags": []
   },
   "outputs": [],
   "source": [
    "logdir = os.path.join(\"logs\", model_name)\n",
    "tensorboard_callback = tf.keras.callbacks.TensorBoard(log_dir = os.path.join(model_path,logdir))"
   ]
  },
  {
   "cell_type": "markdown",
   "id": "4ba6a8e7",
   "metadata": {
    "papermill": {},
    "tags": []
   },
   "source": [
    "# Train Model"
   ]
  },
  {
   "cell_type": "code",
   "execution_count": 25,
   "id": "ecbbb288",
   "metadata": {
    "papermill": {},
    "tags": []
   },
   "outputs": [],
   "source": [
    "opt = tf.keras.optimizers.Adam(learning_rate = 0.0001)\n",
    "model.compile(optimizer = opt, loss=tf.keras.losses.mse)"
   ]
  },
  {
   "cell_type": "code",
   "execution_count": 26,
   "id": "3bec0b65",
   "metadata": {
    "papermill": {},
    "tags": []
   },
   "outputs": [
    {
     "name": "stdout",
     "output_type": "stream",
     "text": [
      "Train on 13600 samples, validate on 2000 samples\n",
      "Epoch 1/200\n",
      "   64/13600 [..............................] - ETA: 2:17 - loss: 0.4724"
     ]
    },
    {
     "name": "stderr",
     "output_type": "stream",
     "text": [
      "2023-02-22 12:01:27.973937: I tensorflow/core/profiler/lib/profiler_session.cc:101] Profiler session initializing.\n",
      "2023-02-22 12:01:27.973996: I tensorflow/core/profiler/lib/profiler_session.cc:116] Profiler session started.\n"
     ]
    },
    {
     "name": "stdout",
     "output_type": "stream",
     "text": [
      "  128/13600 [..............................] - ETA: 2:18 - loss: 0.5142"
     ]
    },
    {
     "name": "stderr",
     "output_type": "stream",
     "text": [
      "2023-02-22 12:01:28.593882: I tensorflow/core/profiler/lib/profiler_session.cc:67] Profiler session collecting data.\n",
      "2023-02-22 12:01:28.595960: I tensorflow/core/profiler/lib/profiler_session.cc:128] Profiler session tear down.\n",
      "2023-02-22 12:01:28.601535: I tensorflow/core/profiler/rpc/client/save_profile.cc:136] Creating directory: /work/uo1075/u301101/Doktorarbeit/CNN/models/cv/22_02_2023_11_43_17/conv_level_0_kfold_0_date_22_02_2023_11_43_17/logs/conv_level_0_kfold_0_date_22_02_2023_11_43_17/plugins/profile/2023_02_22_12_01_28\n",
      "\n",
      "2023-02-22 12:01:28.603590: I tensorflow/core/profiler/rpc/client/save_profile.cc:142] Dumped gzipped tool data for trace.json.gz to /work/uo1075/u301101/Doktorarbeit/CNN/models/cv/22_02_2023_11_43_17/conv_level_0_kfold_0_date_22_02_2023_11_43_17/logs/conv_level_0_kfold_0_date_22_02_2023_11_43_17/plugins/profile/2023_02_22_12_01_28/l20150.lvt.dkrz.de.trace.json.gz\n",
      "2023-02-22 12:01:28.608782: I tensorflow/core/profiler/rpc/client/save_profile.cc:136] Creating directory: /work/uo1075/u301101/Doktorarbeit/CNN/models/cv/22_02_2023_11_43_17/conv_level_0_kfold_0_date_22_02_2023_11_43_17/logs/conv_level_0_kfold_0_date_22_02_2023_11_43_17/plugins/profile/2023_02_22_12_01_28\n",
      "\n",
      "2023-02-22 12:01:28.610788: I tensorflow/core/profiler/rpc/client/save_profile.cc:142] Dumped gzipped tool data for memory_profile.json.gz to /work/uo1075/u301101/Doktorarbeit/CNN/models/cv/22_02_2023_11_43_17/conv_level_0_kfold_0_date_22_02_2023_11_43_17/logs/conv_level_0_kfold_0_date_22_02_2023_11_43_17/plugins/profile/2023_02_22_12_01_28/l20150.lvt.dkrz.de.memory_profile.json.gz\n",
      "2023-02-22 12:01:28.628532: I tensorflow/core/profiler/rpc/client/capture_profile.cc:251] Creating directory: /work/uo1075/u301101/Doktorarbeit/CNN/models/cv/22_02_2023_11_43_17/conv_level_0_kfold_0_date_22_02_2023_11_43_17/logs/conv_level_0_kfold_0_date_22_02_2023_11_43_17/plugins/profile/2023_02_22_12_01_28\n",
      "Dumped tool data for xplane.pb to /work/uo1075/u301101/Doktorarbeit/CNN/models/cv/22_02_2023_11_43_17/conv_level_0_kfold_0_date_22_02_2023_11_43_17/logs/conv_level_0_kfold_0_date_22_02_2023_11_43_17/plugins/profile/2023_02_22_12_01_28/l20150.lvt.dkrz.de.xplane.pb\n",
      "Dumped tool data for overview_page.pb to /work/uo1075/u301101/Doktorarbeit/CNN/models/cv/22_02_2023_11_43_17/conv_level_0_kfold_0_date_22_02_2023_11_43_17/logs/conv_level_0_kfold_0_date_22_02_2023_11_43_17/plugins/profile/2023_02_22_12_01_28/l20150.lvt.dkrz.de.overview_page.pb\n",
      "Dumped tool data for input_pipeline.pb to /work/uo1075/u301101/Doktorarbeit/CNN/models/cv/22_02_2023_11_43_17/conv_level_0_kfold_0_date_22_02_2023_11_43_17/logs/conv_level_0_kfold_0_date_22_02_2023_11_43_17/plugins/profile/2023_02_22_12_01_28/l20150.lvt.dkrz.de.input_pipeline.pb\n",
      "Dumped tool data for tensorflow_stats.pb to /work/uo1075/u301101/Doktorarbeit/CNN/models/cv/22_02_2023_11_43_17/conv_level_0_kfold_0_date_22_02_2023_11_43_17/logs/conv_level_0_kfold_0_date_22_02_2023_11_43_17/plugins/profile/2023_02_22_12_01_28/l20150.lvt.dkrz.de.tensorflow_stats.pb\n",
      "Dumped tool data for kernel_stats.pb to /work/uo1075/u301101/Doktorarbeit/CNN/models/cv/22_02_2023_11_43_17/conv_level_0_kfold_0_date_22_02_2023_11_43_17/logs/conv_level_0_kfold_0_date_22_02_2023_11_43_17/plugins/profile/2023_02_22_12_01_28/l20150.lvt.dkrz.de.kernel_stats.pb\n",
      "\n"
     ]
    },
    {
     "name": "stdout",
     "output_type": "stream",
     "text": [
      "13600/13600 [==============================] - ETA: 0s - loss: 0.5358"
     ]
    },
    {
     "name": "stderr",
     "output_type": "stream",
     "text": [
      "/work/uo1075/u301101/programming/miniconda3/envs/CNN/lib/python3.8/site-packages/keras/engine/training_v1.py:2332: UserWarning: `Model.state_updates` will be removed in a future version. This property should not be used in TensorFlow 2.0, as `updates` are applied automatically.\n",
      "  updates = self.state_updates\n"
     ]
    },
    {
     "name": "stdout",
     "output_type": "stream",
     "text": [
      "Epoch 1 - train_mse: 0.4731 - val_mse: 0.4942 - diff: -0.0211\n",
      "\n",
      "Epoch 1: saving model to /work/uo1075/u301101/Doktorarbeit/CNN/models/cv/22_02_2023_11_43_17/conv_level_0_kfold_0_date_22_02_2023_11_43_17/saved-model-01.hdf5\n",
      "13600/13600 [==============================] - 199s 15ms/sample - loss: 0.5358 - val_loss: 0.4942 - train_mse_epoch_end: 0.4731 - valid_mse_epoch_end: 0.4942 - diff_mse_epoch_end: -0.0211\n",
      "Epoch 2/200\n",
      "13600/13600 [==============================] - ETA: 0s - loss: 0.5167Epoch 2 - train_mse: 0.4787 - val_mse: 0.5024 - diff: -0.0237\n",
      "\n",
      "Epoch 2: saving model to /work/uo1075/u301101/Doktorarbeit/CNN/models/cv/22_02_2023_11_43_17/conv_level_0_kfold_0_date_22_02_2023_11_43_17/saved-model-02.hdf5\n",
      "13600/13600 [==============================] - 220s 16ms/sample - loss: 0.5167 - val_loss: 0.5024 - train_mse_epoch_end: 0.4787 - valid_mse_epoch_end: 0.5024 - diff_mse_epoch_end: -0.0237\n",
      "Epoch 3/200\n",
      "13600/13600 [==============================] - ETA: 0s - loss: 0.5086Epoch 3 - train_mse: 0.4487 - val_mse: 0.4647 - diff: -0.0160\n",
      "\n",
      "Epoch 3: saving model to /work/uo1075/u301101/Doktorarbeit/CNN/models/cv/22_02_2023_11_43_17/conv_level_0_kfold_0_date_22_02_2023_11_43_17/saved-model-03.hdf5\n",
      "13600/13600 [==============================] - 208s 15ms/sample - loss: 0.5086 - val_loss: 0.4647 - train_mse_epoch_end: 0.4487 - valid_mse_epoch_end: 0.4647 - diff_mse_epoch_end: -0.0160\n",
      "Epoch 4/200\n",
      "13600/13600 [==============================] - ETA: 0s - loss: 0.4982Epoch 4 - train_mse: 0.4429 - val_mse: 0.4746 - diff: -0.0317\n",
      "\n",
      "Epoch 4: saving model to /work/uo1075/u301101/Doktorarbeit/CNN/models/cv/22_02_2023_11_43_17/conv_level_0_kfold_0_date_22_02_2023_11_43_17/saved-model-04.hdf5\n",
      "13600/13600 [==============================] - 193s 14ms/sample - loss: 0.4982 - val_loss: 0.4746 - train_mse_epoch_end: 0.4429 - valid_mse_epoch_end: 0.4746 - diff_mse_epoch_end: -0.0317\n",
      "Epoch 5/200\n",
      " 7232/13600 [==============>...............] - ETA: 1:04 - loss: 0.4798"
     ]
    }
   ],
   "source": [
    "model.fit(x=train_x_ml_np, y=train_y_ml_np, batch_size=64, epochs=200, validation_data=(valid_x_ml_np, valid_y_ml_np), callbacks = [TrainValMSEDiff(), checkpoint, csv_logger, tensorboard_callback])\n"
   ]
  }
 ],
 "metadata": {
  "kernelspec": {
   "display_name": "CNN",
   "language": "python",
   "name": "cnn"
  },
  "language_info": {
   "codemirror_mode": {
    "name": "ipython",
    "version": 3
   },
   "file_extension": ".py",
   "mimetype": "text/x-python",
   "name": "python",
   "nbconvert_exporter": "python",
   "pygments_lexer": "ipython3",
   "version": "3.8.16"
  },
  "papermill": {
   "default_parameters": {},
   "environment_variables": {},
   "input_path": "cv_conv_model.ipynb",
   "output_path": "./conv_models/22_02_2023_12_19_41/cv_conv_model_lev_23_kfold_0.ipynb",
   "parameters": {
    "datetime_string": "22_02_2023_12_19_41",
    "kfold_index": "0",
    "lev_index": "23"
   },
   "version": "2.3.4"
  },
  "vscode": {
   "interpreter": {
    "hash": "689bb7d798796eef3aabe566407408febfc13e8fa7d5340267927d1031bb8546"
   }
  }
 },
 "nbformat": 4,
 "nbformat_minor": 5
}